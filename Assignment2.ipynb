{
  "cells": [
    {
      "cell_type": "markdown",
      "metadata": {
        "id": "xolLBPJ6b127"
      },
      "source": [
        "Complete each problem below and print to pdf. Submit the pdf.\n",
        "\n",
        "You will need to work with the three datasets attached to this assignment:\n",
        "\n",
        "*   poverty.csv\n",
        "*   poverty_2.csv\n",
        "*   real_estate.csv"
      ]
    },
    {
      "cell_type": "markdown",
      "metadata": {
        "id": "fajTj7WydVkh"
      },
      "source": [
        "# Problem 1: Univariate Linear Regression"
      ]
    },
    {
      "cell_type": "markdown",
      "metadata": {
        "id": "qY3WWLxLduC_"
      },
      "source": [
        "## 1) import the libraries you will need:\n",
        "numpy \n",
        "pandas\n",
        "matplotlab.pyplot\n",
        "statsmodels.api"
      ]
    },
    {
      "cell_type": "code",
      "source": [
        "import numpy as np\n",
        "import pandas as pd\n",
        "import matplotlib.pyplot as plt\n",
        "import statsmodels.api as sm\n",
        "print(np.__version__)\n",
        "print(pd.__version__)\n",
        "print(sm.__version__)\n"
      ],
      "metadata": {
        "colab": {
          "base_uri": "https://localhost:8080/"
        },
        "id": "QdspRBQpKePr",
        "outputId": "c46159b2-1720-4cca-c9c0-14630898580a"
      },
      "execution_count": null,
      "outputs": [
        {
          "output_type": "stream",
          "name": "stdout",
          "text": [
            "1.21.5\n",
            "1.3.5\n",
            "0.10.2\n"
          ]
        }
      ]
    },
    {
      "cell_type": "markdown",
      "metadata": {
        "id": "GES3Diiod-VB"
      },
      "source": [
        "## 2) Import the date poverty.csv dataset "
      ]
    },
    {
      "cell_type": "code",
      "source": [
        "data=pd.read_csv(\"poverty.csv\")\n",
        "data"
      ],
      "metadata": {
        "colab": {
          "base_uri": "https://localhost:8080/",
          "height": 1000
        },
        "id": "3qdPusJUMIQ2",
        "outputId": "b9703869-5473-43a3-8de4-2c68b68f999f"
      },
      "execution_count": null,
      "outputs": [
        {
          "output_type": "execute_result",
          "data": {
            "text/html": [
              "\n",
              "  <div id=\"df-077ec57c-7cf3-43f0-90ba-ddf4d3151c35\">\n",
              "    <div class=\"colab-df-container\">\n",
              "      <div>\n",
              "<style scoped>\n",
              "    .dataframe tbody tr th:only-of-type {\n",
              "        vertical-align: middle;\n",
              "    }\n",
              "\n",
              "    .dataframe tbody tr th {\n",
              "        vertical-align: top;\n",
              "    }\n",
              "\n",
              "    .dataframe thead th {\n",
              "        text-align: right;\n",
              "    }\n",
              "</style>\n",
              "<table border=\"1\" class=\"dataframe\">\n",
              "  <thead>\n",
              "    <tr style=\"text-align: right;\">\n",
              "      <th></th>\n",
              "      <th>Location</th>\n",
              "      <th>PovPct</th>\n",
              "      <th>Brth15to17</th>\n",
              "      <th>Brth18to19</th>\n",
              "      <th>ViolCrime</th>\n",
              "      <th>TeenBrth</th>\n",
              "    </tr>\n",
              "  </thead>\n",
              "  <tbody>\n",
              "    <tr>\n",
              "      <th>0</th>\n",
              "      <td>Alabama</td>\n",
              "      <td>20.1</td>\n",
              "      <td>31.5</td>\n",
              "      <td>88.7</td>\n",
              "      <td>11.2</td>\n",
              "      <td>54.5</td>\n",
              "    </tr>\n",
              "    <tr>\n",
              "      <th>1</th>\n",
              "      <td>Alaska</td>\n",
              "      <td>7.1</td>\n",
              "      <td>18.9</td>\n",
              "      <td>73.7</td>\n",
              "      <td>9.1</td>\n",
              "      <td>39.5</td>\n",
              "    </tr>\n",
              "    <tr>\n",
              "      <th>2</th>\n",
              "      <td>Arizona</td>\n",
              "      <td>16.1</td>\n",
              "      <td>35.0</td>\n",
              "      <td>102.5</td>\n",
              "      <td>10.4</td>\n",
              "      <td>61.2</td>\n",
              "    </tr>\n",
              "    <tr>\n",
              "      <th>3</th>\n",
              "      <td>Arkansas</td>\n",
              "      <td>14.9</td>\n",
              "      <td>31.6</td>\n",
              "      <td>101.7</td>\n",
              "      <td>10.4</td>\n",
              "      <td>59.9</td>\n",
              "    </tr>\n",
              "    <tr>\n",
              "      <th>4</th>\n",
              "      <td>California</td>\n",
              "      <td>16.7</td>\n",
              "      <td>22.6</td>\n",
              "      <td>69.1</td>\n",
              "      <td>11.2</td>\n",
              "      <td>41.1</td>\n",
              "    </tr>\n",
              "    <tr>\n",
              "      <th>5</th>\n",
              "      <td>Colorado</td>\n",
              "      <td>8.8</td>\n",
              "      <td>26.2</td>\n",
              "      <td>79.1</td>\n",
              "      <td>5.8</td>\n",
              "      <td>47.0</td>\n",
              "    </tr>\n",
              "    <tr>\n",
              "      <th>6</th>\n",
              "      <td>Connecticut</td>\n",
              "      <td>9.7</td>\n",
              "      <td>14.1</td>\n",
              "      <td>45.1</td>\n",
              "      <td>4.6</td>\n",
              "      <td>25.8</td>\n",
              "    </tr>\n",
              "    <tr>\n",
              "      <th>7</th>\n",
              "      <td>Delaware</td>\n",
              "      <td>10.3</td>\n",
              "      <td>24.7</td>\n",
              "      <td>77.8</td>\n",
              "      <td>3.5</td>\n",
              "      <td>46.3</td>\n",
              "    </tr>\n",
              "    <tr>\n",
              "      <th>8</th>\n",
              "      <td>District_of_Columbia</td>\n",
              "      <td>22.0</td>\n",
              "      <td>44.8</td>\n",
              "      <td>101.5</td>\n",
              "      <td>65.0</td>\n",
              "      <td>69.1</td>\n",
              "    </tr>\n",
              "    <tr>\n",
              "      <th>9</th>\n",
              "      <td>Florida</td>\n",
              "      <td>16.2</td>\n",
              "      <td>23.2</td>\n",
              "      <td>78.4</td>\n",
              "      <td>7.3</td>\n",
              "      <td>44.5</td>\n",
              "    </tr>\n",
              "    <tr>\n",
              "      <th>10</th>\n",
              "      <td>Georgia</td>\n",
              "      <td>12.1</td>\n",
              "      <td>31.4</td>\n",
              "      <td>92.8</td>\n",
              "      <td>9.5</td>\n",
              "      <td>55.7</td>\n",
              "    </tr>\n",
              "    <tr>\n",
              "      <th>11</th>\n",
              "      <td>Hawaii</td>\n",
              "      <td>10.3</td>\n",
              "      <td>17.7</td>\n",
              "      <td>66.4</td>\n",
              "      <td>4.7</td>\n",
              "      <td>38.2</td>\n",
              "    </tr>\n",
              "    <tr>\n",
              "      <th>12</th>\n",
              "      <td>Idaho</td>\n",
              "      <td>14.5</td>\n",
              "      <td>18.4</td>\n",
              "      <td>69.1</td>\n",
              "      <td>4.1</td>\n",
              "      <td>39.1</td>\n",
              "    </tr>\n",
              "    <tr>\n",
              "      <th>13</th>\n",
              "      <td>Illinois</td>\n",
              "      <td>12.4</td>\n",
              "      <td>23.4</td>\n",
              "      <td>70.5</td>\n",
              "      <td>10.3</td>\n",
              "      <td>42.2</td>\n",
              "    </tr>\n",
              "    <tr>\n",
              "      <th>14</th>\n",
              "      <td>Indiana</td>\n",
              "      <td>9.6</td>\n",
              "      <td>22.6</td>\n",
              "      <td>78.5</td>\n",
              "      <td>8.0</td>\n",
              "      <td>44.6</td>\n",
              "    </tr>\n",
              "    <tr>\n",
              "      <th>15</th>\n",
              "      <td>Iowa</td>\n",
              "      <td>12.2</td>\n",
              "      <td>16.4</td>\n",
              "      <td>55.4</td>\n",
              "      <td>1.8</td>\n",
              "      <td>32.5</td>\n",
              "    </tr>\n",
              "    <tr>\n",
              "      <th>16</th>\n",
              "      <td>Kansas</td>\n",
              "      <td>10.8</td>\n",
              "      <td>21.4</td>\n",
              "      <td>74.2</td>\n",
              "      <td>6.2</td>\n",
              "      <td>43.0</td>\n",
              "    </tr>\n",
              "    <tr>\n",
              "      <th>17</th>\n",
              "      <td>Kentucky</td>\n",
              "      <td>14.7</td>\n",
              "      <td>26.5</td>\n",
              "      <td>84.8</td>\n",
              "      <td>7.2</td>\n",
              "      <td>51.0</td>\n",
              "    </tr>\n",
              "    <tr>\n",
              "      <th>18</th>\n",
              "      <td>Louisiana</td>\n",
              "      <td>19.7</td>\n",
              "      <td>31.7</td>\n",
              "      <td>96.1</td>\n",
              "      <td>17.0</td>\n",
              "      <td>58.1</td>\n",
              "    </tr>\n",
              "    <tr>\n",
              "      <th>19</th>\n",
              "      <td>Maine</td>\n",
              "      <td>11.2</td>\n",
              "      <td>11.9</td>\n",
              "      <td>45.2</td>\n",
              "      <td>2.0</td>\n",
              "      <td>25.4</td>\n",
              "    </tr>\n",
              "    <tr>\n",
              "      <th>20</th>\n",
              "      <td>Maryland</td>\n",
              "      <td>10.1</td>\n",
              "      <td>20.0</td>\n",
              "      <td>59.6</td>\n",
              "      <td>11.8</td>\n",
              "      <td>35.4</td>\n",
              "    </tr>\n",
              "    <tr>\n",
              "      <th>21</th>\n",
              "      <td>Massachusetts</td>\n",
              "      <td>11.0</td>\n",
              "      <td>12.5</td>\n",
              "      <td>39.6</td>\n",
              "      <td>3.6</td>\n",
              "      <td>23.3</td>\n",
              "    </tr>\n",
              "    <tr>\n",
              "      <th>22</th>\n",
              "      <td>Michigan</td>\n",
              "      <td>12.2</td>\n",
              "      <td>18.0</td>\n",
              "      <td>60.8</td>\n",
              "      <td>8.5</td>\n",
              "      <td>34.8</td>\n",
              "    </tr>\n",
              "    <tr>\n",
              "      <th>23</th>\n",
              "      <td>Minnesota</td>\n",
              "      <td>9.2</td>\n",
              "      <td>14.2</td>\n",
              "      <td>47.3</td>\n",
              "      <td>3.9</td>\n",
              "      <td>27.5</td>\n",
              "    </tr>\n",
              "    <tr>\n",
              "      <th>24</th>\n",
              "      <td>Mississippi</td>\n",
              "      <td>23.5</td>\n",
              "      <td>37.6</td>\n",
              "      <td>103.3</td>\n",
              "      <td>12.9</td>\n",
              "      <td>64.7</td>\n",
              "    </tr>\n",
              "    <tr>\n",
              "      <th>25</th>\n",
              "      <td>Missouri</td>\n",
              "      <td>9.4</td>\n",
              "      <td>22.2</td>\n",
              "      <td>76.6</td>\n",
              "      <td>8.8</td>\n",
              "      <td>44.1</td>\n",
              "    </tr>\n",
              "    <tr>\n",
              "      <th>26</th>\n",
              "      <td>Montana</td>\n",
              "      <td>15.3</td>\n",
              "      <td>17.8</td>\n",
              "      <td>63.3</td>\n",
              "      <td>3.0</td>\n",
              "      <td>36.4</td>\n",
              "    </tr>\n",
              "    <tr>\n",
              "      <th>27</th>\n",
              "      <td>Nebraska</td>\n",
              "      <td>9.6</td>\n",
              "      <td>18.3</td>\n",
              "      <td>64.2</td>\n",
              "      <td>2.9</td>\n",
              "      <td>37.0</td>\n",
              "    </tr>\n",
              "    <tr>\n",
              "      <th>28</th>\n",
              "      <td>Nevada</td>\n",
              "      <td>11.1</td>\n",
              "      <td>28.0</td>\n",
              "      <td>96.7</td>\n",
              "      <td>10.7</td>\n",
              "      <td>53.9</td>\n",
              "    </tr>\n",
              "    <tr>\n",
              "      <th>29</th>\n",
              "      <td>New_Hampshire</td>\n",
              "      <td>5.3</td>\n",
              "      <td>8.1</td>\n",
              "      <td>39.0</td>\n",
              "      <td>1.8</td>\n",
              "      <td>20.0</td>\n",
              "    </tr>\n",
              "    <tr>\n",
              "      <th>30</th>\n",
              "      <td>New_Jersey</td>\n",
              "      <td>7.8</td>\n",
              "      <td>14.7</td>\n",
              "      <td>46.1</td>\n",
              "      <td>5.1</td>\n",
              "      <td>26.8</td>\n",
              "    </tr>\n",
              "    <tr>\n",
              "      <th>31</th>\n",
              "      <td>New_Mexico</td>\n",
              "      <td>25.3</td>\n",
              "      <td>37.8</td>\n",
              "      <td>99.5</td>\n",
              "      <td>8.8</td>\n",
              "      <td>62.4</td>\n",
              "    </tr>\n",
              "    <tr>\n",
              "      <th>32</th>\n",
              "      <td>New_York</td>\n",
              "      <td>16.5</td>\n",
              "      <td>15.7</td>\n",
              "      <td>50.1</td>\n",
              "      <td>8.5</td>\n",
              "      <td>29.5</td>\n",
              "    </tr>\n",
              "    <tr>\n",
              "      <th>33</th>\n",
              "      <td>North_Carolina</td>\n",
              "      <td>12.6</td>\n",
              "      <td>28.6</td>\n",
              "      <td>89.3</td>\n",
              "      <td>9.4</td>\n",
              "      <td>52.2</td>\n",
              "    </tr>\n",
              "    <tr>\n",
              "      <th>34</th>\n",
              "      <td>North_Dakota</td>\n",
              "      <td>12.0</td>\n",
              "      <td>11.7</td>\n",
              "      <td>48.7</td>\n",
              "      <td>0.9</td>\n",
              "      <td>27.2</td>\n",
              "    </tr>\n",
              "    <tr>\n",
              "      <th>35</th>\n",
              "      <td>Ohio</td>\n",
              "      <td>11.5</td>\n",
              "      <td>20.1</td>\n",
              "      <td>69.4</td>\n",
              "      <td>5.4</td>\n",
              "      <td>39.5</td>\n",
              "    </tr>\n",
              "    <tr>\n",
              "      <th>36</th>\n",
              "      <td>Oklahoma</td>\n",
              "      <td>17.1</td>\n",
              "      <td>30.1</td>\n",
              "      <td>97.6</td>\n",
              "      <td>12.2</td>\n",
              "      <td>58.0</td>\n",
              "    </tr>\n",
              "    <tr>\n",
              "      <th>37</th>\n",
              "      <td>Oregon</td>\n",
              "      <td>11.2</td>\n",
              "      <td>18.2</td>\n",
              "      <td>64.8</td>\n",
              "      <td>4.1</td>\n",
              "      <td>36.8</td>\n",
              "    </tr>\n",
              "    <tr>\n",
              "      <th>38</th>\n",
              "      <td>Pennsylvania</td>\n",
              "      <td>12.2</td>\n",
              "      <td>17.2</td>\n",
              "      <td>53.7</td>\n",
              "      <td>6.3</td>\n",
              "      <td>31.6</td>\n",
              "    </tr>\n",
              "    <tr>\n",
              "      <th>39</th>\n",
              "      <td>Rhode_Island</td>\n",
              "      <td>10.6</td>\n",
              "      <td>19.6</td>\n",
              "      <td>59.0</td>\n",
              "      <td>3.3</td>\n",
              "      <td>35.6</td>\n",
              "    </tr>\n",
              "    <tr>\n",
              "      <th>40</th>\n",
              "      <td>South_Carolina</td>\n",
              "      <td>19.9</td>\n",
              "      <td>29.2</td>\n",
              "      <td>87.2</td>\n",
              "      <td>7.9</td>\n",
              "      <td>53.0</td>\n",
              "    </tr>\n",
              "    <tr>\n",
              "      <th>41</th>\n",
              "      <td>South_Dakota</td>\n",
              "      <td>14.5</td>\n",
              "      <td>17.3</td>\n",
              "      <td>67.8</td>\n",
              "      <td>1.8</td>\n",
              "      <td>38.0</td>\n",
              "    </tr>\n",
              "    <tr>\n",
              "      <th>42</th>\n",
              "      <td>Tennessee</td>\n",
              "      <td>15.5</td>\n",
              "      <td>28.2</td>\n",
              "      <td>94.2</td>\n",
              "      <td>10.6</td>\n",
              "      <td>54.3</td>\n",
              "    </tr>\n",
              "    <tr>\n",
              "      <th>43</th>\n",
              "      <td>Texas</td>\n",
              "      <td>17.4</td>\n",
              "      <td>38.2</td>\n",
              "      <td>104.3</td>\n",
              "      <td>9.0</td>\n",
              "      <td>64.4</td>\n",
              "    </tr>\n",
              "    <tr>\n",
              "      <th>44</th>\n",
              "      <td>Utah</td>\n",
              "      <td>8.4</td>\n",
              "      <td>17.8</td>\n",
              "      <td>62.4</td>\n",
              "      <td>3.9</td>\n",
              "      <td>36.8</td>\n",
              "    </tr>\n",
              "    <tr>\n",
              "      <th>45</th>\n",
              "      <td>Vermont</td>\n",
              "      <td>10.3</td>\n",
              "      <td>10.4</td>\n",
              "      <td>44.4</td>\n",
              "      <td>2.2</td>\n",
              "      <td>24.2</td>\n",
              "    </tr>\n",
              "    <tr>\n",
              "      <th>46</th>\n",
              "      <td>Virginia</td>\n",
              "      <td>10.2</td>\n",
              "      <td>19.0</td>\n",
              "      <td>66.0</td>\n",
              "      <td>7.6</td>\n",
              "      <td>37.6</td>\n",
              "    </tr>\n",
              "    <tr>\n",
              "      <th>47</th>\n",
              "      <td>Washington</td>\n",
              "      <td>12.5</td>\n",
              "      <td>16.8</td>\n",
              "      <td>57.6</td>\n",
              "      <td>5.1</td>\n",
              "      <td>33.0</td>\n",
              "    </tr>\n",
              "    <tr>\n",
              "      <th>48</th>\n",
              "      <td>West_Virginia</td>\n",
              "      <td>16.7</td>\n",
              "      <td>21.5</td>\n",
              "      <td>80.7</td>\n",
              "      <td>4.9</td>\n",
              "      <td>45.5</td>\n",
              "    </tr>\n",
              "    <tr>\n",
              "      <th>49</th>\n",
              "      <td>Wisconsin</td>\n",
              "      <td>8.5</td>\n",
              "      <td>15.9</td>\n",
              "      <td>57.1</td>\n",
              "      <td>4.3</td>\n",
              "      <td>32.3</td>\n",
              "    </tr>\n",
              "    <tr>\n",
              "      <th>50</th>\n",
              "      <td>Wyoming</td>\n",
              "      <td>12.2</td>\n",
              "      <td>17.7</td>\n",
              "      <td>72.1</td>\n",
              "      <td>2.1</td>\n",
              "      <td>39.9</td>\n",
              "    </tr>\n",
              "  </tbody>\n",
              "</table>\n",
              "</div>\n",
              "      <button class=\"colab-df-convert\" onclick=\"convertToInteractive('df-077ec57c-7cf3-43f0-90ba-ddf4d3151c35')\"\n",
              "              title=\"Convert this dataframe to an interactive table.\"\n",
              "              style=\"display:none;\">\n",
              "        \n",
              "  <svg xmlns=\"http://www.w3.org/2000/svg\" height=\"24px\"viewBox=\"0 0 24 24\"\n",
              "       width=\"24px\">\n",
              "    <path d=\"M0 0h24v24H0V0z\" fill=\"none\"/>\n",
              "    <path d=\"M18.56 5.44l.94 2.06.94-2.06 2.06-.94-2.06-.94-.94-2.06-.94 2.06-2.06.94zm-11 1L8.5 8.5l.94-2.06 2.06-.94-2.06-.94L8.5 2.5l-.94 2.06-2.06.94zm10 10l.94 2.06.94-2.06 2.06-.94-2.06-.94-.94-2.06-.94 2.06-2.06.94z\"/><path d=\"M17.41 7.96l-1.37-1.37c-.4-.4-.92-.59-1.43-.59-.52 0-1.04.2-1.43.59L10.3 9.45l-7.72 7.72c-.78.78-.78 2.05 0 2.83L4 21.41c.39.39.9.59 1.41.59.51 0 1.02-.2 1.41-.59l7.78-7.78 2.81-2.81c.8-.78.8-2.07 0-2.86zM5.41 20L4 18.59l7.72-7.72 1.47 1.35L5.41 20z\"/>\n",
              "  </svg>\n",
              "      </button>\n",
              "      \n",
              "  <style>\n",
              "    .colab-df-container {\n",
              "      display:flex;\n",
              "      flex-wrap:wrap;\n",
              "      gap: 12px;\n",
              "    }\n",
              "\n",
              "    .colab-df-convert {\n",
              "      background-color: #E8F0FE;\n",
              "      border: none;\n",
              "      border-radius: 50%;\n",
              "      cursor: pointer;\n",
              "      display: none;\n",
              "      fill: #1967D2;\n",
              "      height: 32px;\n",
              "      padding: 0 0 0 0;\n",
              "      width: 32px;\n",
              "    }\n",
              "\n",
              "    .colab-df-convert:hover {\n",
              "      background-color: #E2EBFA;\n",
              "      box-shadow: 0px 1px 2px rgba(60, 64, 67, 0.3), 0px 1px 3px 1px rgba(60, 64, 67, 0.15);\n",
              "      fill: #174EA6;\n",
              "    }\n",
              "\n",
              "    [theme=dark] .colab-df-convert {\n",
              "      background-color: #3B4455;\n",
              "      fill: #D2E3FC;\n",
              "    }\n",
              "\n",
              "    [theme=dark] .colab-df-convert:hover {\n",
              "      background-color: #434B5C;\n",
              "      box-shadow: 0px 1px 3px 1px rgba(0, 0, 0, 0.15);\n",
              "      filter: drop-shadow(0px 1px 2px rgba(0, 0, 0, 0.3));\n",
              "      fill: #FFFFFF;\n",
              "    }\n",
              "  </style>\n",
              "\n",
              "      <script>\n",
              "        const buttonEl =\n",
              "          document.querySelector('#df-077ec57c-7cf3-43f0-90ba-ddf4d3151c35 button.colab-df-convert');\n",
              "        buttonEl.style.display =\n",
              "          google.colab.kernel.accessAllowed ? 'block' : 'none';\n",
              "\n",
              "        async function convertToInteractive(key) {\n",
              "          const element = document.querySelector('#df-077ec57c-7cf3-43f0-90ba-ddf4d3151c35');\n",
              "          const dataTable =\n",
              "            await google.colab.kernel.invokeFunction('convertToInteractive',\n",
              "                                                     [key], {});\n",
              "          if (!dataTable) return;\n",
              "\n",
              "          const docLinkHtml = 'Like what you see? Visit the ' +\n",
              "            '<a target=\"_blank\" href=https://colab.research.google.com/notebooks/data_table.ipynb>data table notebook</a>'\n",
              "            + ' to learn more about interactive tables.';\n",
              "          element.innerHTML = '';\n",
              "          dataTable['output_type'] = 'display_data';\n",
              "          await google.colab.output.renderOutput(dataTable, element);\n",
              "          const docLink = document.createElement('div');\n",
              "          docLink.innerHTML = docLinkHtml;\n",
              "          element.appendChild(docLink);\n",
              "        }\n",
              "      </script>\n",
              "    </div>\n",
              "  </div>\n",
              "  "
            ],
            "text/plain": [
              "                Location  PovPct  Brth15to17  Brth18to19  ViolCrime  TeenBrth\n",
              "0                Alabama    20.1        31.5        88.7       11.2      54.5\n",
              "1                 Alaska     7.1        18.9        73.7        9.1      39.5\n",
              "2                Arizona    16.1        35.0       102.5       10.4      61.2\n",
              "3               Arkansas    14.9        31.6       101.7       10.4      59.9\n",
              "4             California    16.7        22.6        69.1       11.2      41.1\n",
              "5               Colorado     8.8        26.2        79.1        5.8      47.0\n",
              "6            Connecticut     9.7        14.1        45.1        4.6      25.8\n",
              "7               Delaware    10.3        24.7        77.8        3.5      46.3\n",
              "8   District_of_Columbia    22.0        44.8       101.5       65.0      69.1\n",
              "9                Florida    16.2        23.2        78.4        7.3      44.5\n",
              "10               Georgia    12.1        31.4        92.8        9.5      55.7\n",
              "11                Hawaii    10.3        17.7        66.4        4.7      38.2\n",
              "12                 Idaho    14.5        18.4        69.1        4.1      39.1\n",
              "13              Illinois    12.4        23.4        70.5       10.3      42.2\n",
              "14               Indiana     9.6        22.6        78.5        8.0      44.6\n",
              "15                  Iowa    12.2        16.4        55.4        1.8      32.5\n",
              "16                Kansas    10.8        21.4        74.2        6.2      43.0\n",
              "17              Kentucky    14.7        26.5        84.8        7.2      51.0\n",
              "18             Louisiana    19.7        31.7        96.1       17.0      58.1\n",
              "19                 Maine    11.2        11.9        45.2        2.0      25.4\n",
              "20              Maryland    10.1        20.0        59.6       11.8      35.4\n",
              "21         Massachusetts    11.0        12.5        39.6        3.6      23.3\n",
              "22              Michigan    12.2        18.0        60.8        8.5      34.8\n",
              "23             Minnesota     9.2        14.2        47.3        3.9      27.5\n",
              "24           Mississippi    23.5        37.6       103.3       12.9      64.7\n",
              "25              Missouri     9.4        22.2        76.6        8.8      44.1\n",
              "26               Montana    15.3        17.8        63.3        3.0      36.4\n",
              "27              Nebraska     9.6        18.3        64.2        2.9      37.0\n",
              "28                Nevada    11.1        28.0        96.7       10.7      53.9\n",
              "29         New_Hampshire     5.3         8.1        39.0        1.8      20.0\n",
              "30            New_Jersey     7.8        14.7        46.1        5.1      26.8\n",
              "31            New_Mexico    25.3        37.8        99.5        8.8      62.4\n",
              "32              New_York    16.5        15.7        50.1        8.5      29.5\n",
              "33        North_Carolina    12.6        28.6        89.3        9.4      52.2\n",
              "34          North_Dakota    12.0        11.7        48.7        0.9      27.2\n",
              "35                  Ohio    11.5        20.1        69.4        5.4      39.5\n",
              "36              Oklahoma    17.1        30.1        97.6       12.2      58.0\n",
              "37                Oregon    11.2        18.2        64.8        4.1      36.8\n",
              "38          Pennsylvania    12.2        17.2        53.7        6.3      31.6\n",
              "39          Rhode_Island    10.6        19.6        59.0        3.3      35.6\n",
              "40        South_Carolina    19.9        29.2        87.2        7.9      53.0\n",
              "41          South_Dakota    14.5        17.3        67.8        1.8      38.0\n",
              "42             Tennessee    15.5        28.2        94.2       10.6      54.3\n",
              "43                 Texas    17.4        38.2       104.3        9.0      64.4\n",
              "44                  Utah     8.4        17.8        62.4        3.9      36.8\n",
              "45               Vermont    10.3        10.4        44.4        2.2      24.2\n",
              "46              Virginia    10.2        19.0        66.0        7.6      37.6\n",
              "47            Washington    12.5        16.8        57.6        5.1      33.0\n",
              "48         West_Virginia    16.7        21.5        80.7        4.9      45.5\n",
              "49             Wisconsin     8.5        15.9        57.1        4.3      32.3\n",
              "50               Wyoming    12.2        17.7        72.1        2.1      39.9"
            ]
          },
          "metadata": {},
          "execution_count": 63
        }
      ]
    },
    {
      "cell_type": "markdown",
      "metadata": {
        "id": "Iil6FA2Fd_60"
      },
      "source": [
        "## 3) Print the dataset indexed upon the location column."
      ]
    },
    {
      "cell_type": "code",
      "source": [
        "data.set_index(\"Location\")"
      ],
      "metadata": {
        "colab": {
          "base_uri": "https://localhost:8080/",
          "height": 1000
        },
        "id": "TPhTHoWLMfUc",
        "outputId": "476c28d1-ba14-4b1a-8804-e3f7fe8b7507"
      },
      "execution_count": null,
      "outputs": [
        {
          "output_type": "execute_result",
          "data": {
            "text/html": [
              "\n",
              "  <div id=\"df-82a4aa52-6d92-457a-ab3b-10d9106434d1\">\n",
              "    <div class=\"colab-df-container\">\n",
              "      <div>\n",
              "<style scoped>\n",
              "    .dataframe tbody tr th:only-of-type {\n",
              "        vertical-align: middle;\n",
              "    }\n",
              "\n",
              "    .dataframe tbody tr th {\n",
              "        vertical-align: top;\n",
              "    }\n",
              "\n",
              "    .dataframe thead th {\n",
              "        text-align: right;\n",
              "    }\n",
              "</style>\n",
              "<table border=\"1\" class=\"dataframe\">\n",
              "  <thead>\n",
              "    <tr style=\"text-align: right;\">\n",
              "      <th></th>\n",
              "      <th>PovPct</th>\n",
              "      <th>Brth15to17</th>\n",
              "      <th>Brth18to19</th>\n",
              "      <th>ViolCrime</th>\n",
              "      <th>TeenBrth</th>\n",
              "    </tr>\n",
              "    <tr>\n",
              "      <th>Location</th>\n",
              "      <th></th>\n",
              "      <th></th>\n",
              "      <th></th>\n",
              "      <th></th>\n",
              "      <th></th>\n",
              "    </tr>\n",
              "  </thead>\n",
              "  <tbody>\n",
              "    <tr>\n",
              "      <th>Alabama</th>\n",
              "      <td>20.1</td>\n",
              "      <td>31.5</td>\n",
              "      <td>88.7</td>\n",
              "      <td>11.2</td>\n",
              "      <td>54.5</td>\n",
              "    </tr>\n",
              "    <tr>\n",
              "      <th>Alaska</th>\n",
              "      <td>7.1</td>\n",
              "      <td>18.9</td>\n",
              "      <td>73.7</td>\n",
              "      <td>9.1</td>\n",
              "      <td>39.5</td>\n",
              "    </tr>\n",
              "    <tr>\n",
              "      <th>Arizona</th>\n",
              "      <td>16.1</td>\n",
              "      <td>35.0</td>\n",
              "      <td>102.5</td>\n",
              "      <td>10.4</td>\n",
              "      <td>61.2</td>\n",
              "    </tr>\n",
              "    <tr>\n",
              "      <th>Arkansas</th>\n",
              "      <td>14.9</td>\n",
              "      <td>31.6</td>\n",
              "      <td>101.7</td>\n",
              "      <td>10.4</td>\n",
              "      <td>59.9</td>\n",
              "    </tr>\n",
              "    <tr>\n",
              "      <th>California</th>\n",
              "      <td>16.7</td>\n",
              "      <td>22.6</td>\n",
              "      <td>69.1</td>\n",
              "      <td>11.2</td>\n",
              "      <td>41.1</td>\n",
              "    </tr>\n",
              "    <tr>\n",
              "      <th>Colorado</th>\n",
              "      <td>8.8</td>\n",
              "      <td>26.2</td>\n",
              "      <td>79.1</td>\n",
              "      <td>5.8</td>\n",
              "      <td>47.0</td>\n",
              "    </tr>\n",
              "    <tr>\n",
              "      <th>Connecticut</th>\n",
              "      <td>9.7</td>\n",
              "      <td>14.1</td>\n",
              "      <td>45.1</td>\n",
              "      <td>4.6</td>\n",
              "      <td>25.8</td>\n",
              "    </tr>\n",
              "    <tr>\n",
              "      <th>Delaware</th>\n",
              "      <td>10.3</td>\n",
              "      <td>24.7</td>\n",
              "      <td>77.8</td>\n",
              "      <td>3.5</td>\n",
              "      <td>46.3</td>\n",
              "    </tr>\n",
              "    <tr>\n",
              "      <th>District_of_Columbia</th>\n",
              "      <td>22.0</td>\n",
              "      <td>44.8</td>\n",
              "      <td>101.5</td>\n",
              "      <td>65.0</td>\n",
              "      <td>69.1</td>\n",
              "    </tr>\n",
              "    <tr>\n",
              "      <th>Florida</th>\n",
              "      <td>16.2</td>\n",
              "      <td>23.2</td>\n",
              "      <td>78.4</td>\n",
              "      <td>7.3</td>\n",
              "      <td>44.5</td>\n",
              "    </tr>\n",
              "    <tr>\n",
              "      <th>Georgia</th>\n",
              "      <td>12.1</td>\n",
              "      <td>31.4</td>\n",
              "      <td>92.8</td>\n",
              "      <td>9.5</td>\n",
              "      <td>55.7</td>\n",
              "    </tr>\n",
              "    <tr>\n",
              "      <th>Hawaii</th>\n",
              "      <td>10.3</td>\n",
              "      <td>17.7</td>\n",
              "      <td>66.4</td>\n",
              "      <td>4.7</td>\n",
              "      <td>38.2</td>\n",
              "    </tr>\n",
              "    <tr>\n",
              "      <th>Idaho</th>\n",
              "      <td>14.5</td>\n",
              "      <td>18.4</td>\n",
              "      <td>69.1</td>\n",
              "      <td>4.1</td>\n",
              "      <td>39.1</td>\n",
              "    </tr>\n",
              "    <tr>\n",
              "      <th>Illinois</th>\n",
              "      <td>12.4</td>\n",
              "      <td>23.4</td>\n",
              "      <td>70.5</td>\n",
              "      <td>10.3</td>\n",
              "      <td>42.2</td>\n",
              "    </tr>\n",
              "    <tr>\n",
              "      <th>Indiana</th>\n",
              "      <td>9.6</td>\n",
              "      <td>22.6</td>\n",
              "      <td>78.5</td>\n",
              "      <td>8.0</td>\n",
              "      <td>44.6</td>\n",
              "    </tr>\n",
              "    <tr>\n",
              "      <th>Iowa</th>\n",
              "      <td>12.2</td>\n",
              "      <td>16.4</td>\n",
              "      <td>55.4</td>\n",
              "      <td>1.8</td>\n",
              "      <td>32.5</td>\n",
              "    </tr>\n",
              "    <tr>\n",
              "      <th>Kansas</th>\n",
              "      <td>10.8</td>\n",
              "      <td>21.4</td>\n",
              "      <td>74.2</td>\n",
              "      <td>6.2</td>\n",
              "      <td>43.0</td>\n",
              "    </tr>\n",
              "    <tr>\n",
              "      <th>Kentucky</th>\n",
              "      <td>14.7</td>\n",
              "      <td>26.5</td>\n",
              "      <td>84.8</td>\n",
              "      <td>7.2</td>\n",
              "      <td>51.0</td>\n",
              "    </tr>\n",
              "    <tr>\n",
              "      <th>Louisiana</th>\n",
              "      <td>19.7</td>\n",
              "      <td>31.7</td>\n",
              "      <td>96.1</td>\n",
              "      <td>17.0</td>\n",
              "      <td>58.1</td>\n",
              "    </tr>\n",
              "    <tr>\n",
              "      <th>Maine</th>\n",
              "      <td>11.2</td>\n",
              "      <td>11.9</td>\n",
              "      <td>45.2</td>\n",
              "      <td>2.0</td>\n",
              "      <td>25.4</td>\n",
              "    </tr>\n",
              "    <tr>\n",
              "      <th>Maryland</th>\n",
              "      <td>10.1</td>\n",
              "      <td>20.0</td>\n",
              "      <td>59.6</td>\n",
              "      <td>11.8</td>\n",
              "      <td>35.4</td>\n",
              "    </tr>\n",
              "    <tr>\n",
              "      <th>Massachusetts</th>\n",
              "      <td>11.0</td>\n",
              "      <td>12.5</td>\n",
              "      <td>39.6</td>\n",
              "      <td>3.6</td>\n",
              "      <td>23.3</td>\n",
              "    </tr>\n",
              "    <tr>\n",
              "      <th>Michigan</th>\n",
              "      <td>12.2</td>\n",
              "      <td>18.0</td>\n",
              "      <td>60.8</td>\n",
              "      <td>8.5</td>\n",
              "      <td>34.8</td>\n",
              "    </tr>\n",
              "    <tr>\n",
              "      <th>Minnesota</th>\n",
              "      <td>9.2</td>\n",
              "      <td>14.2</td>\n",
              "      <td>47.3</td>\n",
              "      <td>3.9</td>\n",
              "      <td>27.5</td>\n",
              "    </tr>\n",
              "    <tr>\n",
              "      <th>Mississippi</th>\n",
              "      <td>23.5</td>\n",
              "      <td>37.6</td>\n",
              "      <td>103.3</td>\n",
              "      <td>12.9</td>\n",
              "      <td>64.7</td>\n",
              "    </tr>\n",
              "    <tr>\n",
              "      <th>Missouri</th>\n",
              "      <td>9.4</td>\n",
              "      <td>22.2</td>\n",
              "      <td>76.6</td>\n",
              "      <td>8.8</td>\n",
              "      <td>44.1</td>\n",
              "    </tr>\n",
              "    <tr>\n",
              "      <th>Montana</th>\n",
              "      <td>15.3</td>\n",
              "      <td>17.8</td>\n",
              "      <td>63.3</td>\n",
              "      <td>3.0</td>\n",
              "      <td>36.4</td>\n",
              "    </tr>\n",
              "    <tr>\n",
              "      <th>Nebraska</th>\n",
              "      <td>9.6</td>\n",
              "      <td>18.3</td>\n",
              "      <td>64.2</td>\n",
              "      <td>2.9</td>\n",
              "      <td>37.0</td>\n",
              "    </tr>\n",
              "    <tr>\n",
              "      <th>Nevada</th>\n",
              "      <td>11.1</td>\n",
              "      <td>28.0</td>\n",
              "      <td>96.7</td>\n",
              "      <td>10.7</td>\n",
              "      <td>53.9</td>\n",
              "    </tr>\n",
              "    <tr>\n",
              "      <th>New_Hampshire</th>\n",
              "      <td>5.3</td>\n",
              "      <td>8.1</td>\n",
              "      <td>39.0</td>\n",
              "      <td>1.8</td>\n",
              "      <td>20.0</td>\n",
              "    </tr>\n",
              "    <tr>\n",
              "      <th>New_Jersey</th>\n",
              "      <td>7.8</td>\n",
              "      <td>14.7</td>\n",
              "      <td>46.1</td>\n",
              "      <td>5.1</td>\n",
              "      <td>26.8</td>\n",
              "    </tr>\n",
              "    <tr>\n",
              "      <th>New_Mexico</th>\n",
              "      <td>25.3</td>\n",
              "      <td>37.8</td>\n",
              "      <td>99.5</td>\n",
              "      <td>8.8</td>\n",
              "      <td>62.4</td>\n",
              "    </tr>\n",
              "    <tr>\n",
              "      <th>New_York</th>\n",
              "      <td>16.5</td>\n",
              "      <td>15.7</td>\n",
              "      <td>50.1</td>\n",
              "      <td>8.5</td>\n",
              "      <td>29.5</td>\n",
              "    </tr>\n",
              "    <tr>\n",
              "      <th>North_Carolina</th>\n",
              "      <td>12.6</td>\n",
              "      <td>28.6</td>\n",
              "      <td>89.3</td>\n",
              "      <td>9.4</td>\n",
              "      <td>52.2</td>\n",
              "    </tr>\n",
              "    <tr>\n",
              "      <th>North_Dakota</th>\n",
              "      <td>12.0</td>\n",
              "      <td>11.7</td>\n",
              "      <td>48.7</td>\n",
              "      <td>0.9</td>\n",
              "      <td>27.2</td>\n",
              "    </tr>\n",
              "    <tr>\n",
              "      <th>Ohio</th>\n",
              "      <td>11.5</td>\n",
              "      <td>20.1</td>\n",
              "      <td>69.4</td>\n",
              "      <td>5.4</td>\n",
              "      <td>39.5</td>\n",
              "    </tr>\n",
              "    <tr>\n",
              "      <th>Oklahoma</th>\n",
              "      <td>17.1</td>\n",
              "      <td>30.1</td>\n",
              "      <td>97.6</td>\n",
              "      <td>12.2</td>\n",
              "      <td>58.0</td>\n",
              "    </tr>\n",
              "    <tr>\n",
              "      <th>Oregon</th>\n",
              "      <td>11.2</td>\n",
              "      <td>18.2</td>\n",
              "      <td>64.8</td>\n",
              "      <td>4.1</td>\n",
              "      <td>36.8</td>\n",
              "    </tr>\n",
              "    <tr>\n",
              "      <th>Pennsylvania</th>\n",
              "      <td>12.2</td>\n",
              "      <td>17.2</td>\n",
              "      <td>53.7</td>\n",
              "      <td>6.3</td>\n",
              "      <td>31.6</td>\n",
              "    </tr>\n",
              "    <tr>\n",
              "      <th>Rhode_Island</th>\n",
              "      <td>10.6</td>\n",
              "      <td>19.6</td>\n",
              "      <td>59.0</td>\n",
              "      <td>3.3</td>\n",
              "      <td>35.6</td>\n",
              "    </tr>\n",
              "    <tr>\n",
              "      <th>South_Carolina</th>\n",
              "      <td>19.9</td>\n",
              "      <td>29.2</td>\n",
              "      <td>87.2</td>\n",
              "      <td>7.9</td>\n",
              "      <td>53.0</td>\n",
              "    </tr>\n",
              "    <tr>\n",
              "      <th>South_Dakota</th>\n",
              "      <td>14.5</td>\n",
              "      <td>17.3</td>\n",
              "      <td>67.8</td>\n",
              "      <td>1.8</td>\n",
              "      <td>38.0</td>\n",
              "    </tr>\n",
              "    <tr>\n",
              "      <th>Tennessee</th>\n",
              "      <td>15.5</td>\n",
              "      <td>28.2</td>\n",
              "      <td>94.2</td>\n",
              "      <td>10.6</td>\n",
              "      <td>54.3</td>\n",
              "    </tr>\n",
              "    <tr>\n",
              "      <th>Texas</th>\n",
              "      <td>17.4</td>\n",
              "      <td>38.2</td>\n",
              "      <td>104.3</td>\n",
              "      <td>9.0</td>\n",
              "      <td>64.4</td>\n",
              "    </tr>\n",
              "    <tr>\n",
              "      <th>Utah</th>\n",
              "      <td>8.4</td>\n",
              "      <td>17.8</td>\n",
              "      <td>62.4</td>\n",
              "      <td>3.9</td>\n",
              "      <td>36.8</td>\n",
              "    </tr>\n",
              "    <tr>\n",
              "      <th>Vermont</th>\n",
              "      <td>10.3</td>\n",
              "      <td>10.4</td>\n",
              "      <td>44.4</td>\n",
              "      <td>2.2</td>\n",
              "      <td>24.2</td>\n",
              "    </tr>\n",
              "    <tr>\n",
              "      <th>Virginia</th>\n",
              "      <td>10.2</td>\n",
              "      <td>19.0</td>\n",
              "      <td>66.0</td>\n",
              "      <td>7.6</td>\n",
              "      <td>37.6</td>\n",
              "    </tr>\n",
              "    <tr>\n",
              "      <th>Washington</th>\n",
              "      <td>12.5</td>\n",
              "      <td>16.8</td>\n",
              "      <td>57.6</td>\n",
              "      <td>5.1</td>\n",
              "      <td>33.0</td>\n",
              "    </tr>\n",
              "    <tr>\n",
              "      <th>West_Virginia</th>\n",
              "      <td>16.7</td>\n",
              "      <td>21.5</td>\n",
              "      <td>80.7</td>\n",
              "      <td>4.9</td>\n",
              "      <td>45.5</td>\n",
              "    </tr>\n",
              "    <tr>\n",
              "      <th>Wisconsin</th>\n",
              "      <td>8.5</td>\n",
              "      <td>15.9</td>\n",
              "      <td>57.1</td>\n",
              "      <td>4.3</td>\n",
              "      <td>32.3</td>\n",
              "    </tr>\n",
              "    <tr>\n",
              "      <th>Wyoming</th>\n",
              "      <td>12.2</td>\n",
              "      <td>17.7</td>\n",
              "      <td>72.1</td>\n",
              "      <td>2.1</td>\n",
              "      <td>39.9</td>\n",
              "    </tr>\n",
              "  </tbody>\n",
              "</table>\n",
              "</div>\n",
              "      <button class=\"colab-df-convert\" onclick=\"convertToInteractive('df-82a4aa52-6d92-457a-ab3b-10d9106434d1')\"\n",
              "              title=\"Convert this dataframe to an interactive table.\"\n",
              "              style=\"display:none;\">\n",
              "        \n",
              "  <svg xmlns=\"http://www.w3.org/2000/svg\" height=\"24px\"viewBox=\"0 0 24 24\"\n",
              "       width=\"24px\">\n",
              "    <path d=\"M0 0h24v24H0V0z\" fill=\"none\"/>\n",
              "    <path d=\"M18.56 5.44l.94 2.06.94-2.06 2.06-.94-2.06-.94-.94-2.06-.94 2.06-2.06.94zm-11 1L8.5 8.5l.94-2.06 2.06-.94-2.06-.94L8.5 2.5l-.94 2.06-2.06.94zm10 10l.94 2.06.94-2.06 2.06-.94-2.06-.94-.94-2.06-.94 2.06-2.06.94z\"/><path d=\"M17.41 7.96l-1.37-1.37c-.4-.4-.92-.59-1.43-.59-.52 0-1.04.2-1.43.59L10.3 9.45l-7.72 7.72c-.78.78-.78 2.05 0 2.83L4 21.41c.39.39.9.59 1.41.59.51 0 1.02-.2 1.41-.59l7.78-7.78 2.81-2.81c.8-.78.8-2.07 0-2.86zM5.41 20L4 18.59l7.72-7.72 1.47 1.35L5.41 20z\"/>\n",
              "  </svg>\n",
              "      </button>\n",
              "      \n",
              "  <style>\n",
              "    .colab-df-container {\n",
              "      display:flex;\n",
              "      flex-wrap:wrap;\n",
              "      gap: 12px;\n",
              "    }\n",
              "\n",
              "    .colab-df-convert {\n",
              "      background-color: #E8F0FE;\n",
              "      border: none;\n",
              "      border-radius: 50%;\n",
              "      cursor: pointer;\n",
              "      display: none;\n",
              "      fill: #1967D2;\n",
              "      height: 32px;\n",
              "      padding: 0 0 0 0;\n",
              "      width: 32px;\n",
              "    }\n",
              "\n",
              "    .colab-df-convert:hover {\n",
              "      background-color: #E2EBFA;\n",
              "      box-shadow: 0px 1px 2px rgba(60, 64, 67, 0.3), 0px 1px 3px 1px rgba(60, 64, 67, 0.15);\n",
              "      fill: #174EA6;\n",
              "    }\n",
              "\n",
              "    [theme=dark] .colab-df-convert {\n",
              "      background-color: #3B4455;\n",
              "      fill: #D2E3FC;\n",
              "    }\n",
              "\n",
              "    [theme=dark] .colab-df-convert:hover {\n",
              "      background-color: #434B5C;\n",
              "      box-shadow: 0px 1px 3px 1px rgba(0, 0, 0, 0.15);\n",
              "      filter: drop-shadow(0px 1px 2px rgba(0, 0, 0, 0.3));\n",
              "      fill: #FFFFFF;\n",
              "    }\n",
              "  </style>\n",
              "\n",
              "      <script>\n",
              "        const buttonEl =\n",
              "          document.querySelector('#df-82a4aa52-6d92-457a-ab3b-10d9106434d1 button.colab-df-convert');\n",
              "        buttonEl.style.display =\n",
              "          google.colab.kernel.accessAllowed ? 'block' : 'none';\n",
              "\n",
              "        async function convertToInteractive(key) {\n",
              "          const element = document.querySelector('#df-82a4aa52-6d92-457a-ab3b-10d9106434d1');\n",
              "          const dataTable =\n",
              "            await google.colab.kernel.invokeFunction('convertToInteractive',\n",
              "                                                     [key], {});\n",
              "          if (!dataTable) return;\n",
              "\n",
              "          const docLinkHtml = 'Like what you see? Visit the ' +\n",
              "            '<a target=\"_blank\" href=https://colab.research.google.com/notebooks/data_table.ipynb>data table notebook</a>'\n",
              "            + ' to learn more about interactive tables.';\n",
              "          element.innerHTML = '';\n",
              "          dataTable['output_type'] = 'display_data';\n",
              "          await google.colab.output.renderOutput(dataTable, element);\n",
              "          const docLink = document.createElement('div');\n",
              "          docLink.innerHTML = docLinkHtml;\n",
              "          element.appendChild(docLink);\n",
              "        }\n",
              "      </script>\n",
              "    </div>\n",
              "  </div>\n",
              "  "
            ],
            "text/plain": [
              "                      PovPct  Brth15to17  Brth18to19  ViolCrime  TeenBrth\n",
              "Location                                                                 \n",
              "Alabama                 20.1        31.5        88.7       11.2      54.5\n",
              "Alaska                   7.1        18.9        73.7        9.1      39.5\n",
              "Arizona                 16.1        35.0       102.5       10.4      61.2\n",
              "Arkansas                14.9        31.6       101.7       10.4      59.9\n",
              "California              16.7        22.6        69.1       11.2      41.1\n",
              "Colorado                 8.8        26.2        79.1        5.8      47.0\n",
              "Connecticut              9.7        14.1        45.1        4.6      25.8\n",
              "Delaware                10.3        24.7        77.8        3.5      46.3\n",
              "District_of_Columbia    22.0        44.8       101.5       65.0      69.1\n",
              "Florida                 16.2        23.2        78.4        7.3      44.5\n",
              "Georgia                 12.1        31.4        92.8        9.5      55.7\n",
              "Hawaii                  10.3        17.7        66.4        4.7      38.2\n",
              "Idaho                   14.5        18.4        69.1        4.1      39.1\n",
              "Illinois                12.4        23.4        70.5       10.3      42.2\n",
              "Indiana                  9.6        22.6        78.5        8.0      44.6\n",
              "Iowa                    12.2        16.4        55.4        1.8      32.5\n",
              "Kansas                  10.8        21.4        74.2        6.2      43.0\n",
              "Kentucky                14.7        26.5        84.8        7.2      51.0\n",
              "Louisiana               19.7        31.7        96.1       17.0      58.1\n",
              "Maine                   11.2        11.9        45.2        2.0      25.4\n",
              "Maryland                10.1        20.0        59.6       11.8      35.4\n",
              "Massachusetts           11.0        12.5        39.6        3.6      23.3\n",
              "Michigan                12.2        18.0        60.8        8.5      34.8\n",
              "Minnesota                9.2        14.2        47.3        3.9      27.5\n",
              "Mississippi             23.5        37.6       103.3       12.9      64.7\n",
              "Missouri                 9.4        22.2        76.6        8.8      44.1\n",
              "Montana                 15.3        17.8        63.3        3.0      36.4\n",
              "Nebraska                 9.6        18.3        64.2        2.9      37.0\n",
              "Nevada                  11.1        28.0        96.7       10.7      53.9\n",
              "New_Hampshire            5.3         8.1        39.0        1.8      20.0\n",
              "New_Jersey               7.8        14.7        46.1        5.1      26.8\n",
              "New_Mexico              25.3        37.8        99.5        8.8      62.4\n",
              "New_York                16.5        15.7        50.1        8.5      29.5\n",
              "North_Carolina          12.6        28.6        89.3        9.4      52.2\n",
              "North_Dakota            12.0        11.7        48.7        0.9      27.2\n",
              "Ohio                    11.5        20.1        69.4        5.4      39.5\n",
              "Oklahoma                17.1        30.1        97.6       12.2      58.0\n",
              "Oregon                  11.2        18.2        64.8        4.1      36.8\n",
              "Pennsylvania            12.2        17.2        53.7        6.3      31.6\n",
              "Rhode_Island            10.6        19.6        59.0        3.3      35.6\n",
              "South_Carolina          19.9        29.2        87.2        7.9      53.0\n",
              "South_Dakota            14.5        17.3        67.8        1.8      38.0\n",
              "Tennessee               15.5        28.2        94.2       10.6      54.3\n",
              "Texas                   17.4        38.2       104.3        9.0      64.4\n",
              "Utah                     8.4        17.8        62.4        3.9      36.8\n",
              "Vermont                 10.3        10.4        44.4        2.2      24.2\n",
              "Virginia                10.2        19.0        66.0        7.6      37.6\n",
              "Washington              12.5        16.8        57.6        5.1      33.0\n",
              "West_Virginia           16.7        21.5        80.7        4.9      45.5\n",
              "Wisconsin                8.5        15.9        57.1        4.3      32.3\n",
              "Wyoming                 12.2        17.7        72.1        2.1      39.9"
            ]
          },
          "metadata": {},
          "execution_count": 64
        }
      ]
    },
    {
      "cell_type": "markdown",
      "metadata": {
        "id": "LbI0lor1eCey"
      },
      "source": [
        "## 4) Get useful descriptive statistial data on the dataset.\n",
        "Hint: this is a single line, data._____ "
      ]
    },
    {
      "cell_type": "code",
      "source": [
        "data.info()"
      ],
      "metadata": {
        "colab": {
          "base_uri": "https://localhost:8080/"
        },
        "id": "jPBxKC25Np43",
        "outputId": "e82dee4a-7fc0-441c-a64e-4e4b22350c93"
      },
      "execution_count": null,
      "outputs": [
        {
          "output_type": "stream",
          "name": "stdout",
          "text": [
            "<class 'pandas.core.frame.DataFrame'>\n",
            "RangeIndex: 51 entries, 0 to 50\n",
            "Data columns (total 6 columns):\n",
            " #   Column      Non-Null Count  Dtype  \n",
            "---  ------      --------------  -----  \n",
            " 0   Location    51 non-null     object \n",
            " 1   PovPct      51 non-null     float64\n",
            " 2   Brth15to17  51 non-null     float64\n",
            " 3   Brth18to19  51 non-null     float64\n",
            " 4   ViolCrime   51 non-null     float64\n",
            " 5   TeenBrth    51 non-null     float64\n",
            "dtypes: float64(5), object(1)\n",
            "memory usage: 2.5+ KB\n"
          ]
        }
      ]
    },
    {
      "cell_type": "code",
      "source": [
        "data.describe()"
      ],
      "metadata": {
        "colab": {
          "base_uri": "https://localhost:8080/",
          "height": 300
        },
        "id": "tLn0ECLZsonk",
        "outputId": "a80b48db-a0b7-4a74-a1b4-07b2825fa42f"
      },
      "execution_count": null,
      "outputs": [
        {
          "output_type": "execute_result",
          "data": {
            "text/html": [
              "\n",
              "  <div id=\"df-5cbf0ae0-d99c-4b3d-a3cc-a0a7d8b78c9a\">\n",
              "    <div class=\"colab-df-container\">\n",
              "      <div>\n",
              "<style scoped>\n",
              "    .dataframe tbody tr th:only-of-type {\n",
              "        vertical-align: middle;\n",
              "    }\n",
              "\n",
              "    .dataframe tbody tr th {\n",
              "        vertical-align: top;\n",
              "    }\n",
              "\n",
              "    .dataframe thead th {\n",
              "        text-align: right;\n",
              "    }\n",
              "</style>\n",
              "<table border=\"1\" class=\"dataframe\">\n",
              "  <thead>\n",
              "    <tr style=\"text-align: right;\">\n",
              "      <th></th>\n",
              "      <th>PovPct</th>\n",
              "      <th>Brth15to17</th>\n",
              "      <th>Brth18to19</th>\n",
              "      <th>ViolCrime</th>\n",
              "      <th>TeenBrth</th>\n",
              "    </tr>\n",
              "  </thead>\n",
              "  <tbody>\n",
              "    <tr>\n",
              "      <th>count</th>\n",
              "      <td>51.000000</td>\n",
              "      <td>51.000000</td>\n",
              "      <td>51.000000</td>\n",
              "      <td>51.000000</td>\n",
              "      <td>51.000000</td>\n",
              "    </tr>\n",
              "    <tr>\n",
              "      <th>mean</th>\n",
              "      <td>13.117647</td>\n",
              "      <td>22.282353</td>\n",
              "      <td>72.019608</td>\n",
              "      <td>7.854902</td>\n",
              "      <td>42.243137</td>\n",
              "    </tr>\n",
              "    <tr>\n",
              "      <th>std</th>\n",
              "      <td>4.277228</td>\n",
              "      <td>8.043499</td>\n",
              "      <td>18.975563</td>\n",
              "      <td>8.914131</td>\n",
              "      <td>12.318511</td>\n",
              "    </tr>\n",
              "    <tr>\n",
              "      <th>min</th>\n",
              "      <td>5.300000</td>\n",
              "      <td>8.100000</td>\n",
              "      <td>39.000000</td>\n",
              "      <td>0.900000</td>\n",
              "      <td>20.000000</td>\n",
              "    </tr>\n",
              "    <tr>\n",
              "      <th>25%</th>\n",
              "      <td>10.250000</td>\n",
              "      <td>17.250000</td>\n",
              "      <td>58.300000</td>\n",
              "      <td>3.900000</td>\n",
              "      <td>33.900000</td>\n",
              "    </tr>\n",
              "    <tr>\n",
              "      <th>50%</th>\n",
              "      <td>12.200000</td>\n",
              "      <td>20.000000</td>\n",
              "      <td>69.400000</td>\n",
              "      <td>6.300000</td>\n",
              "      <td>39.500000</td>\n",
              "    </tr>\n",
              "    <tr>\n",
              "      <th>75%</th>\n",
              "      <td>15.800000</td>\n",
              "      <td>28.100000</td>\n",
              "      <td>87.950000</td>\n",
              "      <td>9.450000</td>\n",
              "      <td>52.600000</td>\n",
              "    </tr>\n",
              "    <tr>\n",
              "      <th>max</th>\n",
              "      <td>25.300000</td>\n",
              "      <td>44.800000</td>\n",
              "      <td>104.300000</td>\n",
              "      <td>65.000000</td>\n",
              "      <td>69.100000</td>\n",
              "    </tr>\n",
              "  </tbody>\n",
              "</table>\n",
              "</div>\n",
              "      <button class=\"colab-df-convert\" onclick=\"convertToInteractive('df-5cbf0ae0-d99c-4b3d-a3cc-a0a7d8b78c9a')\"\n",
              "              title=\"Convert this dataframe to an interactive table.\"\n",
              "              style=\"display:none;\">\n",
              "        \n",
              "  <svg xmlns=\"http://www.w3.org/2000/svg\" height=\"24px\"viewBox=\"0 0 24 24\"\n",
              "       width=\"24px\">\n",
              "    <path d=\"M0 0h24v24H0V0z\" fill=\"none\"/>\n",
              "    <path d=\"M18.56 5.44l.94 2.06.94-2.06 2.06-.94-2.06-.94-.94-2.06-.94 2.06-2.06.94zm-11 1L8.5 8.5l.94-2.06 2.06-.94-2.06-.94L8.5 2.5l-.94 2.06-2.06.94zm10 10l.94 2.06.94-2.06 2.06-.94-2.06-.94-.94-2.06-.94 2.06-2.06.94z\"/><path d=\"M17.41 7.96l-1.37-1.37c-.4-.4-.92-.59-1.43-.59-.52 0-1.04.2-1.43.59L10.3 9.45l-7.72 7.72c-.78.78-.78 2.05 0 2.83L4 21.41c.39.39.9.59 1.41.59.51 0 1.02-.2 1.41-.59l7.78-7.78 2.81-2.81c.8-.78.8-2.07 0-2.86zM5.41 20L4 18.59l7.72-7.72 1.47 1.35L5.41 20z\"/>\n",
              "  </svg>\n",
              "      </button>\n",
              "      \n",
              "  <style>\n",
              "    .colab-df-container {\n",
              "      display:flex;\n",
              "      flex-wrap:wrap;\n",
              "      gap: 12px;\n",
              "    }\n",
              "\n",
              "    .colab-df-convert {\n",
              "      background-color: #E8F0FE;\n",
              "      border: none;\n",
              "      border-radius: 50%;\n",
              "      cursor: pointer;\n",
              "      display: none;\n",
              "      fill: #1967D2;\n",
              "      height: 32px;\n",
              "      padding: 0 0 0 0;\n",
              "      width: 32px;\n",
              "    }\n",
              "\n",
              "    .colab-df-convert:hover {\n",
              "      background-color: #E2EBFA;\n",
              "      box-shadow: 0px 1px 2px rgba(60, 64, 67, 0.3), 0px 1px 3px 1px rgba(60, 64, 67, 0.15);\n",
              "      fill: #174EA6;\n",
              "    }\n",
              "\n",
              "    [theme=dark] .colab-df-convert {\n",
              "      background-color: #3B4455;\n",
              "      fill: #D2E3FC;\n",
              "    }\n",
              "\n",
              "    [theme=dark] .colab-df-convert:hover {\n",
              "      background-color: #434B5C;\n",
              "      box-shadow: 0px 1px 3px 1px rgba(0, 0, 0, 0.15);\n",
              "      filter: drop-shadow(0px 1px 2px rgba(0, 0, 0, 0.3));\n",
              "      fill: #FFFFFF;\n",
              "    }\n",
              "  </style>\n",
              "\n",
              "      <script>\n",
              "        const buttonEl =\n",
              "          document.querySelector('#df-5cbf0ae0-d99c-4b3d-a3cc-a0a7d8b78c9a button.colab-df-convert');\n",
              "        buttonEl.style.display =\n",
              "          google.colab.kernel.accessAllowed ? 'block' : 'none';\n",
              "\n",
              "        async function convertToInteractive(key) {\n",
              "          const element = document.querySelector('#df-5cbf0ae0-d99c-4b3d-a3cc-a0a7d8b78c9a');\n",
              "          const dataTable =\n",
              "            await google.colab.kernel.invokeFunction('convertToInteractive',\n",
              "                                                     [key], {});\n",
              "          if (!dataTable) return;\n",
              "\n",
              "          const docLinkHtml = 'Like what you see? Visit the ' +\n",
              "            '<a target=\"_blank\" href=https://colab.research.google.com/notebooks/data_table.ipynb>data table notebook</a>'\n",
              "            + ' to learn more about interactive tables.';\n",
              "          element.innerHTML = '';\n",
              "          dataTable['output_type'] = 'display_data';\n",
              "          await google.colab.output.renderOutput(dataTable, element);\n",
              "          const docLink = document.createElement('div');\n",
              "          docLink.innerHTML = docLinkHtml;\n",
              "          element.appendChild(docLink);\n",
              "        }\n",
              "      </script>\n",
              "    </div>\n",
              "  </div>\n",
              "  "
            ],
            "text/plain": [
              "          PovPct  Brth15to17  Brth18to19  ViolCrime   TeenBrth\n",
              "count  51.000000   51.000000   51.000000  51.000000  51.000000\n",
              "mean   13.117647   22.282353   72.019608   7.854902  42.243137\n",
              "std     4.277228    8.043499   18.975563   8.914131  12.318511\n",
              "min     5.300000    8.100000   39.000000   0.900000  20.000000\n",
              "25%    10.250000   17.250000   58.300000   3.900000  33.900000\n",
              "50%    12.200000   20.000000   69.400000   6.300000  39.500000\n",
              "75%    15.800000   28.100000   87.950000   9.450000  52.600000\n",
              "max    25.300000   44.800000  104.300000  65.000000  69.100000"
            ]
          },
          "metadata": {},
          "execution_count": 66
        }
      ]
    },
    {
      "cell_type": "markdown",
      "metadata": {
        "id": "WIwY_FKS0MQZ"
      },
      "source": [
        "##5) Print the columns"
      ]
    },
    {
      "cell_type": "code",
      "source": [
        "locationColumn = data['Location'].tolist()\n",
        "PovpctColumn = data['PovPct'].tolist()\n",
        "Brth15to17Column = data['Brth15to17'].tolist()\n",
        "Brth18to19Column = data['Brth18to19'].tolist()\n",
        "ViolCrimeColumn = data['ViolCrime'].tolist()\n",
        "TeenBrthColumn = data['TeenBrth'].tolist()\n",
        "print('Location:',locationColumn)\n",
        "print('povpct:',PovpctColumn)\n",
        "print('Brth15to17',Brth15to17Column)\n",
        "print('Brth18to19',Brth18to19Column)\n",
        "print('ViolCrime',ViolCrimeColumn)\n",
        "print('TeenBrth',TeenBrthColumn)\n"
      ],
      "metadata": {
        "colab": {
          "base_uri": "https://localhost:8080/"
        },
        "id": "0qMDu1hEO8zX",
        "outputId": "301fdbc5-a621-4abb-d4cf-e2c35acd6501"
      },
      "execution_count": null,
      "outputs": [
        {
          "output_type": "stream",
          "name": "stdout",
          "text": [
            "Location: ['Alabama', 'Alaska', 'Arizona', 'Arkansas', 'California', 'Colorado', 'Connecticut', 'Delaware', 'District_of_Columbia', 'Florida', 'Georgia', 'Hawaii', 'Idaho', 'Illinois', 'Indiana', 'Iowa', 'Kansas', 'Kentucky', 'Louisiana', 'Maine', 'Maryland', 'Massachusetts', 'Michigan', 'Minnesota', 'Mississippi', 'Missouri', 'Montana', 'Nebraska', 'Nevada', 'New_Hampshire', 'New_Jersey', 'New_Mexico', 'New_York', 'North_Carolina', 'North_Dakota', 'Ohio', 'Oklahoma', 'Oregon', 'Pennsylvania', 'Rhode_Island', 'South_Carolina', 'South_Dakota', 'Tennessee', 'Texas', 'Utah', 'Vermont', 'Virginia', 'Washington', 'West_Virginia', 'Wisconsin', 'Wyoming']\n",
            "povpct: [20.1, 7.1, 16.1, 14.9, 16.7, 8.8, 9.7, 10.3, 22.0, 16.2, 12.1, 10.3, 14.5, 12.4, 9.6, 12.2, 10.8, 14.7, 19.7, 11.2, 10.1, 11.0, 12.2, 9.2, 23.5, 9.4, 15.3, 9.6, 11.1, 5.3, 7.8, 25.3, 16.5, 12.6, 12.0, 11.5, 17.1, 11.2, 12.2, 10.6, 19.9, 14.5, 15.5, 17.4, 8.4, 10.3, 10.2, 12.5, 16.7, 8.5, 12.2]\n",
            "Brth15to17 [31.5, 18.9, 35.0, 31.6, 22.6, 26.2, 14.1, 24.7, 44.8, 23.2, 31.4, 17.7, 18.4, 23.4, 22.6, 16.4, 21.4, 26.5, 31.7, 11.9, 20.0, 12.5, 18.0, 14.2, 37.6, 22.2, 17.8, 18.3, 28.0, 8.1, 14.7, 37.8, 15.7, 28.6, 11.7, 20.1, 30.1, 18.2, 17.2, 19.6, 29.2, 17.3, 28.2, 38.2, 17.8, 10.4, 19.0, 16.8, 21.5, 15.9, 17.7]\n",
            "Brth18to19 [88.7, 73.7, 102.5, 101.7, 69.1, 79.1, 45.1, 77.8, 101.5, 78.4, 92.8, 66.4, 69.1, 70.5, 78.5, 55.4, 74.2, 84.8, 96.1, 45.2, 59.6, 39.6, 60.8, 47.3, 103.3, 76.6, 63.3, 64.2, 96.7, 39.0, 46.1, 99.5, 50.1, 89.3, 48.7, 69.4, 97.6, 64.8, 53.7, 59.0, 87.2, 67.8, 94.2, 104.3, 62.4, 44.4, 66.0, 57.6, 80.7, 57.1, 72.1]\n",
            "ViolCrime [11.2, 9.1, 10.4, 10.4, 11.2, 5.8, 4.6, 3.5, 65.0, 7.3, 9.5, 4.7, 4.1, 10.3, 8.0, 1.8, 6.2, 7.2, 17.0, 2.0, 11.8, 3.6, 8.5, 3.9, 12.9, 8.8, 3.0, 2.9, 10.7, 1.8, 5.1, 8.8, 8.5, 9.4, 0.9, 5.4, 12.2, 4.1, 6.3, 3.3, 7.9, 1.8, 10.6, 9.0, 3.9, 2.2, 7.6, 5.1, 4.9, 4.3, 2.1]\n",
            "TeenBrth [54.5, 39.5, 61.2, 59.9, 41.1, 47.0, 25.8, 46.3, 69.1, 44.5, 55.7, 38.2, 39.1, 42.2, 44.6, 32.5, 43.0, 51.0, 58.1, 25.4, 35.4, 23.3, 34.8, 27.5, 64.7, 44.1, 36.4, 37.0, 53.9, 20.0, 26.8, 62.4, 29.5, 52.2, 27.2, 39.5, 58.0, 36.8, 31.6, 35.6, 53.0, 38.0, 54.3, 64.4, 36.8, 24.2, 37.6, 33.0, 45.5, 32.3, 39.9]\n"
          ]
        }
      ]
    },
    {
      "cell_type": "markdown",
      "metadata": {
        "id": "mh1LJDq4eD-0"
      },
      "source": [
        "## 6) Create a regression line based upon the dependent and independent variables:\n",
        "PovPct \n",
        "Brth18to19\n",
        "\n",
        "In this step only create a scatterplot of the two variables, simply plotting the data.\n",
        "\n",
        "Note: The variable PovPct is the percent of a state’s population in 2000 living in households with incomes below the federally defined poverty level. "
      ]
    },
    {
      "cell_type": "code",
      "source": [
        "x = PovpctColumn\n",
        "y = Brth18to19Column\n",
        "plt.plot(x,y,'o')"
      ],
      "metadata": {
        "colab": {
          "base_uri": "https://localhost:8080/",
          "height": 282
        },
        "id": "a2xj0_d7SaW0",
        "outputId": "020f06d3-9d6e-4efd-b844-4478bb85b788"
      },
      "execution_count": null,
      "outputs": [
        {
          "output_type": "execute_result",
          "data": {
            "text/plain": [
              "[<matplotlib.lines.Line2D at 0x7fb798f28b90>]"
            ]
          },
          "metadata": {},
          "execution_count": 68
        },
        {
          "output_type": "display_data",
          "data": {
            "image/png": "[encoded data removed]",
            "text/plain": [
              "<Figure size 432x288 with 1 Axes>"
            ]
          },
          "metadata": {
            "needs_background": "light"
          }
        }
      ]
    },
    {
      "cell_type": "code",
      "source": [
        "X = data['Brth18to19']\n",
        "y = data['PovPct']\n",
        "\n",
        "fig = plt.scatter(X, y, c='blue', )\n",
        "plt.xlabel('Brth18to19')\n",
        "plt.ylabel('PovPct')\n",
        "plt.show()"
      ],
      "metadata": {
        "colab": {
          "base_uri": "https://localhost:8080/",
          "height": 279
        },
        "id": "elM7Ev1htIpl",
        "outputId": "a1dba551-2980-4df0-e5fe-7bd5359f7df2"
      },
      "execution_count": null,
      "outputs": [
        {
          "output_type": "display_data",
          "data": {
            "image/png": "[encoded data removed]",
            "text/plain": [
              "<Figure size 432x288 with 1 Axes>"
            ]
          },
          "metadata": {
            "needs_background": "light"
          }
        }
      ]
    },
    {
      "cell_type": "markdown",
      "metadata": {
        "id": "ToC_9hnc3mkd"
      },
      "source": [
        "## 7) Lets create a new variable, x1, as well as the results variable:\n",
        "Example would be\n",
        "1.   x1 = sm.add_constant(x)\n",
        "2.   results = sm.OLS(y, x1).fit()\n",
        "3.   results.summary()\n",
        "\n",
        "This gives you the OLS Regression results, the coefficients table, and some additional tests. The data that you are interested in is the coefficient values. This is the value for the constant you created is b0, and birth19to19 is b1 in the regression equation.\n"
      ]
    },
    {
      "cell_type": "code",
      "source": [
        "x1 = sm.add_constant(x)\n",
        "results = sm.OLS(y, x1).fit()\n",
        "results.summary()\n"
      ],
      "metadata": {
        "colab": {
          "base_uri": "https://localhost:8080/",
          "height": 452
        },
        "id": "54JmB37ZYYqG",
        "outputId": "645004f3-1c25-4e12-99b7-2c57a0908703"
      },
      "execution_count": null,
      "outputs": [
        {
          "output_type": "execute_result",
          "data": {
            "text/html": [
              "<table class=\"simpletable\">\n",
              "<caption>OLS Regression Results</caption>\n",
              "<tr>\n",
              "  <th>Dep. Variable:</th>         <td>PovPct</td>      <th>  R-squared:         </th> <td>   1.000</td> \n",
              "</tr>\n",
              "<tr>\n",
              "  <th>Model:</th>                   <td>OLS</td>       <th>  Adj. R-squared:    </th> <td>   1.000</td> \n",
              "</tr>\n",
              "<tr>\n",
              "  <th>Method:</th>             <td>Least Squares</td>  <th>  F-statistic:       </th> <td>1.894e+34</td>\n",
              "</tr>\n",
              "<tr>\n",
              "  <th>Date:</th>             <td>Sat, 19 Feb 2022</td> <th>  Prob (F-statistic):</th>  <td>  0.00</td>  \n",
              "</tr>\n",
              "<tr>\n",
              "  <th>Time:</th>                 <td>02:34:26</td>     <th>  Log-Likelihood:    </th> <td>  1767.4</td> \n",
              "</tr>\n",
              "<tr>\n",
              "  <th>No. Observations:</th>      <td>    51</td>      <th>  AIC:               </th> <td>  -3531.</td> \n",
              "</tr>\n",
              "<tr>\n",
              "  <th>Df Residuals:</th>          <td>    49</td>      <th>  BIC:               </th> <td>  -3527.</td> \n",
              "</tr>\n",
              "<tr>\n",
              "  <th>Df Model:</th>              <td>     1</td>      <th>                     </th>     <td> </td>    \n",
              "</tr>\n",
              "<tr>\n",
              "  <th>Covariance Type:</th>      <td>nonrobust</td>    <th>                     </th>     <td> </td>    \n",
              "</tr>\n",
              "</table>\n",
              "<table class=\"simpletable\">\n",
              "<tr>\n",
              "    <td></td>       <th>coef</th>     <th>std err</th>      <th>t</th>      <th>P>|t|</th>  <th>[0.025</th>    <th>0.975]</th>  \n",
              "</tr>\n",
              "<tr>\n",
              "  <th>const</th> <td> 1.998e-15</td> <td>    1e-16</td> <td>   19.952</td> <td> 0.000</td> <td>  1.8e-15</td> <td>  2.2e-15</td>\n",
              "</tr>\n",
              "<tr>\n",
              "  <th>x1</th>    <td>    1.0000</td> <td> 7.27e-18</td> <td> 1.38e+17</td> <td> 0.000</td> <td>    1.000</td> <td>    1.000</td>\n",
              "</tr>\n",
              "</table>\n",
              "<table class=\"simpletable\">\n",
              "<tr>\n",
              "  <th>Omnibus:</th>       <td>67.181</td> <th>  Durbin-Watson:     </th> <td>   1.333</td>\n",
              "</tr>\n",
              "<tr>\n",
              "  <th>Prob(Omnibus):</th> <td> 0.000</td> <th>  Jarque-Bera (JB):  </th> <td> 428.727</td>\n",
              "</tr>\n",
              "<tr>\n",
              "  <th>Skew:</th>          <td>-3.750</td> <th>  Prob(JB):          </th> <td>8.00e-94</td>\n",
              "</tr>\n",
              "<tr>\n",
              "  <th>Kurtosis:</th>      <td>15.062</td> <th>  Cond. No.          </th> <td>    45.1</td>\n",
              "</tr>\n",
              "</table><br/><br/>Warnings:<br/>[1] Standard Errors assume that the covariance matrix of the errors is correctly specified."
            ],
            "text/plain": [
              "<class 'statsmodels.iolib.summary.Summary'>\n",
              "\"\"\"\n",
              "                            OLS Regression Results                            \n",
              "==============================================================================\n",
              "Dep. Variable:                 PovPct   R-squared:                       1.000\n",
              "Model:                            OLS   Adj. R-squared:                  1.000\n",
              "Method:                 Least Squares   F-statistic:                 1.894e+34\n",
              "Date:                Sat, 19 Feb 2022   Prob (F-statistic):               0.00\n",
              "Time:                        02:34:26   Log-Likelihood:                 1767.4\n",
              "No. Observations:                  51   AIC:                            -3531.\n",
              "Df Residuals:                      49   BIC:                            -3527.\n",
              "Df Model:                           1                                         \n",
              "Covariance Type:            nonrobust                                         \n",
              "==============================================================================\n",
              "                 coef    std err          t      P>|t|      [0.025      0.975]\n",
              "------------------------------------------------------------------------------\n",
              "const       1.998e-15      1e-16     19.952      0.000     1.8e-15     2.2e-15\n",
              "x1             1.0000   7.27e-18   1.38e+17      0.000       1.000       1.000\n",
              "==============================================================================\n",
              "Omnibus:                       67.181   Durbin-Watson:                   1.333\n",
              "Prob(Omnibus):                  0.000   Jarque-Bera (JB):              428.727\n",
              "Skew:                          -3.750   Prob(JB):                     8.00e-94\n",
              "Kurtosis:                      15.062   Cond. No.                         45.1\n",
              "==============================================================================\n",
              "\n",
              "Warnings:\n",
              "[1] Standard Errors assume that the covariance matrix of the errors is correctly specified.\n",
              "\"\"\""
            ]
          },
          "metadata": {},
          "execution_count": 70
        }
      ]
    },
    {
      "cell_type": "markdown",
      "metadata": {
        "id": "fVJyXsLO4UAD"
      },
      "source": [
        "## 8) Taking the coeffient values for the new constant and the Y variable, create a scatterplot:\n",
        "\n",
        "e.g. \n",
        "yhat = 0.1464*x + 0.25712\n",
        "fig = plt.plot(x, yhat, lw=4, c='red', label = 'regression line')"
      ]
    },
    {
      "cell_type": "code",
      "source": [
        "x=np.asarray(x)\n",
        "yhat = 0.1464*x + 0.25712 \n",
        "fig = plt.plot(x, yhat, lw=4, c='blue', label = 'regression line')"
      ],
      "metadata": {
        "colab": {
          "base_uri": "https://localhost:8080/",
          "height": 265
        },
        "id": "A-vyOi-NYsK5",
        "outputId": "bd276aee-c805-4ce0-a2cd-76ac03a41ad8"
      },
      "execution_count": null,
      "outputs": [
        {
          "output_type": "display_data",
          "data": {
            "image/png": "[encoded data removed]",
            "text/plain": [
              "<Figure size 432x288 with 1 Axes>"
            ]
          },
          "metadata": {
            "needs_background": "light"
          }
        }
      ]
    },
    {
      "cell_type": "markdown",
      "source": [
        "METHOD 2\n"
      ],
      "metadata": {
        "id": "gM_Yt99UttKf"
      }
    },
    {
      "cell_type": "code",
      "source": [
        "yhat = 0.1464*X + 2.5712 \n",
        "plt.scatter(X, y, c='red', )\n",
        "plt.plot(X, yhat, lw=4, c='blue', label = 'regression line')\n",
        "plt.xlabel('Brth18to19')\n",
        "plt.ylabel('PovPct')\n",
        "plt.show()"
      ],
      "metadata": {
        "colab": {
          "base_uri": "https://localhost:8080/",
          "height": 279
        },
        "id": "x-43rbdntvqp",
        "outputId": "c569cab6-04ee-42ca-db79-9b426ce955e7"
      },
      "execution_count": null,
      "outputs": [
        {
          "output_type": "display_data",
          "data": {
            "image/png": "[encoded data removed]",
            "text/plain": [
              "<Figure size 432x288 with 1 Axes>"
            ]
          },
          "metadata": {
            "needs_background": "light"
          }
        }
      ]
    },
    {
      "cell_type": "markdown",
      "metadata": {
        "id": "RnPQCYcn4Bbq"
      },
      "source": [
        "# Problem 2: Implement code from lecture"
      ]
    },
    {
      "cell_type": "markdown",
      "metadata": {
        "id": "nBbYAVMj4HaL"
      },
      "source": [
        "## 1) Perform linear regression using the normal equation, as done in slides."
      ]
    },
    {
      "cell_type": "code",
      "source": [
        "X_b = np.c_[np.ones((len(X), 1)), X]\n",
        "theta = np.linalg.inv(X_b.T.dot(X_b)).dot(X_b.T).dot(y)\n",
        "\n",
        "theta\n",
        "\n",
        "#idk optional\n",
        "yhat2 = theta[1]*X + theta[0] \n",
        "plt.scatter(X, y, c='red', )\n",
        "plt.plot(X, yhat2, lw=4, c='blue', label = 'regression line')\n",
        "plt.xlabel('Brth18to19')\n",
        "plt.ylabel('PovPct')\n",
        "plt.show()\n"
      ],
      "metadata": {
        "id": "fOwlyylDeBxH",
        "colab": {
          "base_uri": "https://localhost:8080/"
        },
        "outputId": "73ae0c53-981c-4038-b691-35039da12fd3"
      },
      "execution_count": null,
      "outputs": [
        {
          "output_type": "display_data",
          "data": {
            "image/png": "[encoded data removed]",
            "text/plain": [
              "<Figure size 432x288 with 1 Axes>"
            ]
          },
          "metadata": {
            "needs_background": "light"
          }
        }
      ]
    },
    {
      "cell_type": "markdown",
      "metadata": {
        "id": "56VkD2C04SaF"
      },
      "source": [
        "## 2) Perform linear regression using Scikit-Learn, as done in the slides."
      ]
    },
    {
      "cell_type": "code",
      "source": [
        "from sklearn.linear_model import LinearRegression\n",
        "reg = LinearRegression().fit(X_b, y)\n",
        "print(reg.intercept_)\n",
        "print(reg.coef_[1])\n",
        "yhat2 = reg.coef_[1]*X + reg.intercept_\n",
        "plt.scatter(X, y, c='red', )\n",
        "plt.plot(X, yhat2, lw=4, c='blue', label = 'regression line')\n",
        "plt.xlabel('Brth18to19')\n",
        "plt.ylabel('PovPct')\n",
        "plt.show()\n"
      ],
      "metadata": {
        "colab": {
          "base_uri": "https://localhost:8080/"
        },
        "id": "Oj6Cq5migZ0W",
        "outputId": "03642254-faed-418b-d8c4-3d17039b8c5e"
      },
      "execution_count": null,
      "outputs": [
        {
          "output_type": "stream",
          "name": "stdout",
          "text": [
            "2.571235250308659\n",
            "0.14643806213837704\n"
          ]
        },
        {
          "output_type": "display_data",
          "data": {
            "image/png": "[encoded data removed]",
            "text/plain": [
              "<Figure size 432x288 with 1 Axes>"
            ]
          },
          "metadata": {
            "needs_background": "light"
          }
        }
      ]
    },
    {
      "cell_type": "markdown",
      "metadata": {
        "id": "zPQRoKB__648"
      },
      "source": [
        "# Problem 3: Multivariate Linear Regression\n",
        "In this problem we will continue using the poverty dataset. Do poverty and violent crimes affect teen pregnancy?"
      ]
    },
    {
      "cell_type": "code",
      "source": [
        "def initialize_parameters(lenw):\n",
        "  w = data[\"PovPct\"]\n",
        "  b = data[\"TeenBrth\"]\n",
        "  return w,b\n",
        "\n",
        "def forward_prop(X,w,b):\n",
        "  z=np.dot(w,X)+b\n",
        "  return z\n",
        "\n",
        "def cost_function(z,y):\n",
        "  J=(1/(2*m))*np.sum(np.square(z-y))\n",
        "  return J\n",
        "\n",
        "def back_prop(X,y,z):\n",
        "  m=y.shape[1]\n",
        "  dz=(1/m)*(z-y)\n",
        "  dw=np.dot(dz,X.T)\n",
        "  db=np.sum(dz)\n",
        "  return dw,db\n",
        "\n",
        "def gradient_descent_update(w,b,dw,db,learning_rate):\n",
        "  w=w-learning_rate*dw\n",
        "  b=b-learning_rate*db\n",
        "  return w,b\n",
        "\n",
        "def linear_regression_model(X_train,y_train,X_val,y_val,learning_rate,epochs):\n",
        "   lenw=X_train.shape[0]\n",
        "   w,b=initialize_parameters(lenw)\n",
        "   for i in range(1,epochs+1):\n",
        "     z_train = forward_prop(X_train,y_train)\n",
        "     cost_train=cost_function(z_train,y_train)\n",
        "     dw,db = back_prop(X_train,y_train,z_train)\n",
        "     w,b=gradient_descent_update(w,b,dw,db,learning_rate)\n",
        "\n",
        "     if i%10==0:\n",
        "       costs_train.append(cost_train)\n",
        "\n",
        "     MAE_train=(1/m_train)*np.sum(np.abs(z_train-y_train))\n",
        "\n",
        "     z_val=forward_prop(X_val,w,b)\n",
        "     cost_val=cost_function(z_val,y_val)\n",
        "     MAE_val=(1/m_val)*np.sum(np.abs(z_val-y_val))\n",
        "\n",
        "     plt.plot(costs_train)\n",
        "     plt.xlabel(\"Iterations\")\n",
        "     plt.ylabel(\"Training cost\")\n",
        "     plt.title(\"Learining Rate\")\n",
        "     plt.show()\n",
        "\n",
        "\n",
        "\n",
        "\n",
        "\n"
      ],
      "metadata": {
        "id": "ID3YR7CXtedW"
      },
      "execution_count": null,
      "outputs": []
    },
    {
      "cell_type": "markdown",
      "metadata": {
        "id": "YSI7RrmC_H7N"
      },
      "source": [
        "## 1) import the libraries you will need:\n",
        "numpy \n",
        "pandas\n",
        "matplotlab.pyplot\n",
        "statsmodels.api"
      ]
    },
    {
      "cell_type": "code",
      "execution_count": null,
      "metadata": {
        "id": "tx5Ru5TY_H7S"
      },
      "outputs": [],
      "source": [
        "import numpy as np\n",
        "import pandas as pd\n",
        "from sklearn.preprocessing import normalize"
      ]
    },
    {
      "cell_type": "markdown",
      "metadata": {
        "id": "TaWWSisg_649"
      },
      "source": [
        "\n",
        "## 2) Import the dataset, poverty_2.csv, and print it.\n"
      ]
    },
    {
      "cell_type": "code",
      "source": [
        "data = pd.read_csv('poverty_2.csv')"
      ],
      "metadata": {
        "id": "_e5NCzpquNad"
      },
      "execution_count": null,
      "outputs": []
    },
    {
      "cell_type": "markdown",
      "metadata": {
        "id": "3Zf-n8sbeHHL"
      },
      "source": [
        "## 3) We need to normalize the input variables."
      ]
    },
    {
      "cell_type": "code",
      "execution_count": null,
      "metadata": {
        "id": "hO0d_GoUlC3t"
      },
      "outputs": [],
      "source": [
        "data = normalize(data, axis=0)"
      ]
    },
    {
      "cell_type": "markdown",
      "metadata": {
        "id": "-S46a6gpeHHL"
      },
      "source": [
        "## 4) Split the data into input variables, X, and the output variable, Y."
      ]
    },
    {
      "cell_type": "code",
      "source": [
        "X = data[:,1:]\n",
        "Y = data[:,2:]"
      ],
      "metadata": {
        "id": "eYsqmZ04udse"
      },
      "execution_count": null,
      "outputs": []
    },
    {
      "cell_type": "markdown",
      "metadata": {
        "id": "DkF0OabICS20"
      },
      "source": [
        "## 5) Graph the dataset with a seed of 42.\n",
        "Replace the FILLINTHESEVALUES fields."
      ]
    },
    {
      "cell_type": "code",
      "execution_count": null,
      "metadata": {
        "id": "9eJ7bw4ycZib",
        "colab": {
          "base_uri": "https://localhost:8080/",
          "height": 248
        },
        "outputId": "23e73ea9-c058-4ead-b1fe-149325e2d5dc"
      },
      "outputs": [
        {
          "output_type": "display_data",
          "data": {
            "image/png": "[encoded data removed]",
            "text/plain": [
              "<Figure size 432x288 with 1 Axes>"
            ]
          },
          "metadata": {
            "needs_background": "light"
          }
        }
      ],
      "source": [
        "np.random.seed(42)\n",
        "\n",
        "fig = plt.figure()\n",
        "ax = fig.add_subplot(111, projection='3d')\n",
        "\n",
        "xs = X[:, :1]\n",
        "ys = Y\n",
        "zs = data[:, :1]\n",
        "ax.scatter(xs, ys, zs)\n",
        "\n",
        "ax.set_xlabel('ViolCrime')\n",
        "ax.set_ylabel('TeenBrth')\n",
        "ax.set_zlabel('PovPct')\n",
        "\n",
        "plt.show()"
      ]
    },
    {
      "cell_type": "markdown",
      "metadata": {
        "id": "Tve3fCf4Vkwp"
      },
      "source": [
        "## 6) Implement  Gradient Descent.\n",
        "This section has be provided. Please run and understand the code."
      ]
    },
    {
      "cell_type": "code",
      "execution_count": null,
      "metadata": {
        "id": "5u9UlY8KVvE7"
      },
      "outputs": [],
      "source": [
        "# hyperparameters\n",
        "learning_rate = 0.05\n",
        "max_iteration = 500\n",
        "\n",
        "#parameters\n",
        "theta = np.zeros((data.shape[1], 1))"
      ]
    },
    {
      "cell_type": "code",
      "execution_count": null,
      "metadata": {
        "id": "o2ec_B8VDjCu"
      },
      "outputs": [],
      "source": [
        "def hypothesis (theta, X) :\n",
        "  tempX = np.ones((X.shape[0], X.shape[1] + 1))\n",
        "  tempX[:,1:] = X\n",
        "  return np.matmul(tempX, theta)"
      ]
    },
    {
      "cell_type": "code",
      "execution_count": null,
      "metadata": {
        "id": "lLP0RAS1PQQ4"
      },
      "outputs": [],
      "source": [
        "def loss (theta, X, Y) :\n",
        "  return np.average(np.square(Y - h(theta, X))) / 2"
      ]
    },
    {
      "cell_type": "code",
      "execution_count": null,
      "metadata": {
        "id": "Nue2ZoX_DnrU"
      },
      "outputs": [],
      "source": [
        "def gradient (theta, X, Y) :\n",
        "  tempX = np.ones((X.shape[0], X.shape[1] + 1))\n",
        "  tempX[:,1:] = X\n",
        "  d_theta = - np.average((Y - h(theta, X)) * tempX, axis= 0)\n",
        "  d_theta = d_theta.reshape((d_theta.shape[0], 1))\n",
        "  return d_theta"
      ]
    },
    {
      "cell_type": "code",
      "execution_count": null,
      "metadata": {
        "id": "dBeDemDvDrif"
      },
      "outputs": [],
      "source": [
        "def gradient_descent (theta, X, Y, learning_rate, max_iteration, gap) :\n",
        "  cost = np.zeros(max_iteration)\n",
        "  for i in range(max_iteration) :\n",
        "    d_theta = gradient (theta, X, Y)\n",
        "    theta = theta - learning_rate * d_theta\n",
        "    cost[i] = loss(theta, X, Y)\n",
        "    if i % gap == 0 :\n",
        "      print ('iteration : ', i, ' loss : ', loss(theta, X, Y)) \n",
        "  return theta, cost"
      ]
    },
    {
      "cell_type": "code",
      "execution_count": null,
      "metadata": {
        "id": "5ufuj_wODwQy",
        "colab": {
          "base_uri": "https://localhost:8080/",
          "height": 329
        },
        "outputId": "c746860e-39f1-4b73-b4d5-e4bf352c486e"
      },
      "outputs": [
        {
          "output_type": "error",
          "ename": "NameError",
          "evalue": "ignored",
          "traceback": [
            "\u001b[0;31m---------------------------------------------------------------------------\u001b[0m",
            "\u001b[0;31mNameError\u001b[0m                                 Traceback (most recent call last)",
            "\u001b[0;32m<ipython-input-86-18f67aca2bc4>\u001b[0m in \u001b[0;36m<module>\u001b[0;34m()\u001b[0m\n\u001b[0;32m----> 1\u001b[0;31m \u001b[0mtheta\u001b[0m\u001b[0;34m,\u001b[0m \u001b[0mcost\u001b[0m \u001b[0;34m=\u001b[0m \u001b[0mgradient_descent\u001b[0m \u001b[0;34m(\u001b[0m\u001b[0mtheta\u001b[0m\u001b[0;34m,\u001b[0m \u001b[0mX\u001b[0m\u001b[0;34m,\u001b[0m \u001b[0mY\u001b[0m\u001b[0;34m,\u001b[0m \u001b[0mlearning_rate\u001b[0m\u001b[0;34m,\u001b[0m \u001b[0mmax_iteration\u001b[0m\u001b[0;34m,\u001b[0m \u001b[0;36m100\u001b[0m\u001b[0;34m)\u001b[0m\u001b[0;34m\u001b[0m\u001b[0;34m\u001b[0m\u001b[0m\n\u001b[0m",
            "\u001b[0;32m<ipython-input-85-f870ba52ec11>\u001b[0m in \u001b[0;36mgradient_descent\u001b[0;34m(theta, X, Y, learning_rate, max_iteration, gap)\u001b[0m\n\u001b[1;32m      2\u001b[0m   \u001b[0mcost\u001b[0m \u001b[0;34m=\u001b[0m \u001b[0mnp\u001b[0m\u001b[0;34m.\u001b[0m\u001b[0mzeros\u001b[0m\u001b[0;34m(\u001b[0m\u001b[0mmax_iteration\u001b[0m\u001b[0;34m)\u001b[0m\u001b[0;34m\u001b[0m\u001b[0;34m\u001b[0m\u001b[0m\n\u001b[1;32m      3\u001b[0m   \u001b[0;32mfor\u001b[0m \u001b[0mi\u001b[0m \u001b[0;32min\u001b[0m \u001b[0mrange\u001b[0m\u001b[0;34m(\u001b[0m\u001b[0mmax_iteration\u001b[0m\u001b[0;34m)\u001b[0m \u001b[0;34m:\u001b[0m\u001b[0;34m\u001b[0m\u001b[0;34m\u001b[0m\u001b[0m\n\u001b[0;32m----> 4\u001b[0;31m     \u001b[0md_theta\u001b[0m \u001b[0;34m=\u001b[0m \u001b[0mgradient\u001b[0m \u001b[0;34m(\u001b[0m\u001b[0mtheta\u001b[0m\u001b[0;34m,\u001b[0m \u001b[0mX\u001b[0m\u001b[0;34m,\u001b[0m \u001b[0mY\u001b[0m\u001b[0;34m)\u001b[0m\u001b[0;34m\u001b[0m\u001b[0;34m\u001b[0m\u001b[0m\n\u001b[0m\u001b[1;32m      5\u001b[0m     \u001b[0mtheta\u001b[0m \u001b[0;34m=\u001b[0m \u001b[0mtheta\u001b[0m \u001b[0;34m-\u001b[0m \u001b[0mlearning_rate\u001b[0m \u001b[0;34m*\u001b[0m \u001b[0md_theta\u001b[0m\u001b[0;34m\u001b[0m\u001b[0;34m\u001b[0m\u001b[0m\n\u001b[1;32m      6\u001b[0m     \u001b[0mcost\u001b[0m\u001b[0;34m[\u001b[0m\u001b[0mi\u001b[0m\u001b[0;34m]\u001b[0m \u001b[0;34m=\u001b[0m \u001b[0mloss\u001b[0m\u001b[0;34m(\u001b[0m\u001b[0mtheta\u001b[0m\u001b[0;34m,\u001b[0m \u001b[0mX\u001b[0m\u001b[0;34m,\u001b[0m \u001b[0mY\u001b[0m\u001b[0;34m)\u001b[0m\u001b[0;34m\u001b[0m\u001b[0;34m\u001b[0m\u001b[0m\n",
            "\u001b[0;32m<ipython-input-84-9007545cb96b>\u001b[0m in \u001b[0;36mgradient\u001b[0;34m(theta, X, Y)\u001b[0m\n\u001b[1;32m      2\u001b[0m   \u001b[0mtempX\u001b[0m \u001b[0;34m=\u001b[0m \u001b[0mnp\u001b[0m\u001b[0;34m.\u001b[0m\u001b[0mones\u001b[0m\u001b[0;34m(\u001b[0m\u001b[0;34m(\u001b[0m\u001b[0mX\u001b[0m\u001b[0;34m.\u001b[0m\u001b[0mshape\u001b[0m\u001b[0;34m[\u001b[0m\u001b[0;36m0\u001b[0m\u001b[0;34m]\u001b[0m\u001b[0;34m,\u001b[0m \u001b[0mX\u001b[0m\u001b[0;34m.\u001b[0m\u001b[0mshape\u001b[0m\u001b[0;34m[\u001b[0m\u001b[0;36m1\u001b[0m\u001b[0;34m]\u001b[0m \u001b[0;34m+\u001b[0m \u001b[0;36m1\u001b[0m\u001b[0;34m)\u001b[0m\u001b[0;34m)\u001b[0m\u001b[0;34m\u001b[0m\u001b[0;34m\u001b[0m\u001b[0m\n\u001b[1;32m      3\u001b[0m   \u001b[0mtempX\u001b[0m\u001b[0;34m[\u001b[0m\u001b[0;34m:\u001b[0m\u001b[0;34m,\u001b[0m\u001b[0;36m1\u001b[0m\u001b[0;34m:\u001b[0m\u001b[0;34m]\u001b[0m \u001b[0;34m=\u001b[0m \u001b[0mX\u001b[0m\u001b[0;34m\u001b[0m\u001b[0;34m\u001b[0m\u001b[0m\n\u001b[0;32m----> 4\u001b[0;31m   \u001b[0md_theta\u001b[0m \u001b[0;34m=\u001b[0m \u001b[0;34m-\u001b[0m \u001b[0mnp\u001b[0m\u001b[0;34m.\u001b[0m\u001b[0maverage\u001b[0m\u001b[0;34m(\u001b[0m\u001b[0;34m(\u001b[0m\u001b[0mY\u001b[0m \u001b[0;34m-\u001b[0m \u001b[0mh\u001b[0m\u001b[0;34m(\u001b[0m\u001b[0mtheta\u001b[0m\u001b[0;34m,\u001b[0m \u001b[0mX\u001b[0m\u001b[0;34m)\u001b[0m\u001b[0;34m)\u001b[0m \u001b[0;34m*\u001b[0m \u001b[0mtempX\u001b[0m\u001b[0;34m,\u001b[0m \u001b[0maxis\u001b[0m\u001b[0;34m=\u001b[0m \u001b[0;36m0\u001b[0m\u001b[0;34m)\u001b[0m\u001b[0;34m\u001b[0m\u001b[0;34m\u001b[0m\u001b[0m\n\u001b[0m\u001b[1;32m      5\u001b[0m   \u001b[0md_theta\u001b[0m \u001b[0;34m=\u001b[0m \u001b[0md_theta\u001b[0m\u001b[0;34m.\u001b[0m\u001b[0mreshape\u001b[0m\u001b[0;34m(\u001b[0m\u001b[0;34m(\u001b[0m\u001b[0md_theta\u001b[0m\u001b[0;34m.\u001b[0m\u001b[0mshape\u001b[0m\u001b[0;34m[\u001b[0m\u001b[0;36m0\u001b[0m\u001b[0;34m]\u001b[0m\u001b[0;34m,\u001b[0m \u001b[0;36m1\u001b[0m\u001b[0;34m)\u001b[0m\u001b[0;34m)\u001b[0m\u001b[0;34m\u001b[0m\u001b[0;34m\u001b[0m\u001b[0m\n\u001b[1;32m      6\u001b[0m   \u001b[0;32mreturn\u001b[0m \u001b[0md_theta\u001b[0m\u001b[0;34m\u001b[0m\u001b[0;34m\u001b[0m\u001b[0m\n",
            "\u001b[0;31mNameError\u001b[0m: name 'h' is not defined"
          ]
        }
      ],
      "source": [
        "theta, cost = gradient_descent (theta, X, Y, learning_rate, max_iteration, 100)"
      ]
    },
    {
      "cell_type": "code",
      "execution_count": null,
      "metadata": {
        "id": "vvpjzEMhD1x8"
      },
      "outputs": [],
      "source": [
        "#optimal value is :\n",
        "theta"
      ]
    },
    {
      "cell_type": "code",
      "execution_count": null,
      "metadata": {
        "id": "IU5vvSCtD6mR"
      },
      "outputs": [],
      "source": [
        "#plot cost\n",
        "fig, ax = plt.subplots()  \n",
        "ax.plot(np.arange(max_iteration), cost, 'r')  \n",
        "ax.legend(loc='upper right', labels=['batch gradient descent'])\n",
        "ax.set_xlabel('Iterations')  \n",
        "ax.set_ylabel('Cost')  \n",
        "ax.set_title('Error vs. Training Epoch')  \n",
        "\n",
        "plt.show()"
      ]
    },
    {
      "cell_type": "markdown",
      "metadata": {
        "id": "H6J6BrZ6EID4"
      },
      "source": [
        "## 7) Implement Stochastic Gradient Descent. Please run."
      ]
    },
    {
      "cell_type": "code",
      "execution_count": null,
      "metadata": {
        "id": "tUZtoNtNEVU1"
      },
      "outputs": [],
      "source": [
        "def stochastic_gradient_descent (theta, X, Y, learning_rate, max_iteration, gap) :\n",
        "  cost = np.zeros(max_iteration)\n",
        "  for i in range(max_iteration) :\n",
        "    for j in range(X.shape[0]):\n",
        "      d_theta = gradient (theta, X[j,:].reshape(1, X.shape[1]), Y[j,:].reshape(1, 1))\n",
        "      theta = theta - learning_rate * d_theta\n",
        "    \n",
        "    cost[i] = loss(theta, X, Y)\n",
        "    if i % gap == 0 :\n",
        "      print ('iteration : ', i, ' loss : ', loss(theta, X, Y)) \n",
        "  return theta, cost"
      ]
    },
    {
      "cell_type": "code",
      "execution_count": null,
      "metadata": {
        "id": "sCqvlEunEeN7"
      },
      "outputs": [],
      "source": [
        "theta_stoc = np.zeros((data.shape[1], 1))"
      ]
    },
    {
      "cell_type": "code",
      "execution_count": null,
      "metadata": {
        "id": "UkEj9jgJE59l"
      },
      "outputs": [],
      "source": [
        "theta_stoc, cost_stoc = stochastic_gradient_descent (theta_stoc, X, Y, learning_rate, max_iteration, 100)"
      ]
    },
    {
      "cell_type": "code",
      "execution_count": null,
      "metadata": {
        "id": "t1l_uNl7FSev"
      },
      "outputs": [],
      "source": [
        "#plot the cost\n",
        "fig, ax = plt.subplots()  \n",
        "ax.plot(np.arange(max_iteration), cost, 'r')  \n",
        "ax.plot(np.arange(max_iteration), cost_stoc, 'b')  \n",
        "#ax.plot(np.arange(max_iteration), mb_cost, 'g')  \n",
        "ax.legend(loc='upper right', labels=['batch gradient descent', 'stochastic gradient descent'])#, 'mini-batch gradient descent'])\n",
        "ax.set_xlabel('Iterations')  \n",
        "ax.set_ylabel('Cost')  \n",
        "ax.set_title('Error vs. Training Epoch')  \n",
        "\n",
        "plt.show()"
      ]
    },
    {
      "cell_type": "code",
      "execution_count": null,
      "metadata": {
        "id": "zzfzq8IuIEDW"
      },
      "outputs": [],
      "source": [
        "np.random.seed(42)\n",
        "\n",
        "fig = plt.figure()\n",
        "ax = fig.add_subplot(111, projection='3d')\n",
        "\n",
        "xs = X[:, 0]\n",
        "ys = X[:, 1]\n",
        "zs = Y\n",
        "ax.scatter(xs, ys, zs)\n",
        "\n",
        "ax.set_xlabel('PovPct')\n",
        "ax.set_ylabel('ViolCrime')\n",
        "ax.set_zlabel('TeenBrth')\n",
        "\n",
        "# new \n",
        "x = y = np.arange(0, 0.3, 0.05)\n",
        "xp, yp = np.meshgrid(x, y)\n",
        "z = np.array([h(theta, np.array([[x,y]]))[0, 0] for x,y in zip(np.ravel(xp), np.ravel(yp))])\n",
        "zp = z.reshape(xp.shape)\n",
        "\n",
        "ax.plot_surface(xp, yp, zp, alpha=0.7)\n",
        "\n",
        "plt.show()"
      ]
    },
    {
      "cell_type": "markdown",
      "metadata": {
        "id": "16472KMCdjHL"
      },
      "source": [
        "# Problem 4, predict house price.\n",
        "\n",
        "* import real_estate.csv \n",
        "* Are there any null values in the dataset? Drop any missing data if exist. \n",
        "* Create X as a 1-D array of the distance to the nearest MRT station, and y as the housing price\n",
        "* What is the number of samples in the data set? To do this, you can look at the \"shape\" of X and y\n",
        "* Split the data into train and test sets using sklearn's train_test_split, with test_size = 1/3\n",
        "* Find the line of best fit using a Linear Regression and show the result of coefficients and intercept (you can use sklearn's linear regression)\n",
        "* Using the predict method, make predictions for the test set and evaluate the performance (e.g., MSE or other metrics)."
      ]
    },
    {
      "cell_type": "code",
      "execution_count": null,
      "metadata": {
        "id": "v6YslcGNKTXK",
        "colab": {
          "base_uri": "https://localhost:8080/"
        },
        "outputId": "3dceb1e7-6196-4b56-831f-1d85b1623280"
      },
      "outputs": [
        {
          "output_type": "stream",
          "name": "stdout",
          "text": [
            "N. Samples: \n",
            "(414, 1)\n",
            "(414, 1)\n"
          ]
        }
      ],
      "source": [
        "data3 = pd.read_csv('real_estate.csv')\n",
        "data3 = data3.dropna()\n",
        "X = data3[['X3 distance to the nearest MRT station']]\n",
        "y = data3[['Y house price of unit area']]\n",
        "print(\"N. Samples: \")\n",
        "print(np.shape(X))\n",
        "print(np.shape(y))\n"
      ]
    },
    {
      "cell_type": "code",
      "source": [
        "from sklearn.model_selection import train_test_split\n",
        "X_train, X_test, y_train, y_test = train_test_split(X, y, test_size=0.333)\n",
        "np.shape(X_train)"
      ],
      "metadata": {
        "colab": {
          "base_uri": "https://localhost:8080/"
        },
        "id": "ZTPNkExkj_Ni",
        "outputId": "7582fc00-9b7a-43d3-ceae-c8fbf48f39e2"
      },
      "execution_count": null,
      "outputs": [
        {
          "output_type": "execute_result",
          "data": {
            "text/plain": [
              "(276, 1)"
            ]
          },
          "metadata": {},
          "execution_count": 90
        }
      ]
    },
    {
      "cell_type": "code",
      "source": [
        "from sklearn.linear_model import LinearRegression\n",
        "reg = LinearRegression().fit(X_train, y_train)\n",
        "print(reg.intercept_)\n",
        "print(reg.coef_[0])"
      ],
      "metadata": {
        "colab": {
          "base_uri": "https://localhost:8080/"
        },
        "id": "Z570biG5kdyA",
        "outputId": "336c0c6f-80c4-45d1-d7c3-47d6193371eb"
      },
      "execution_count": null,
      "outputs": [
        {
          "output_type": "stream",
          "name": "stdout",
          "text": [
            "[46.68201581]\n",
            "[-0.00764843]\n"
          ]
        }
      ]
    },
    {
      "cell_type": "code",
      "source": [
        "from sklearn.metrics import mean_squared_error\n",
        "y_pred = reg.predict(X_test)\n",
        "print(mean_squared_error(y_test, y_pred))"
      ],
      "metadata": {
        "colab": {
          "base_uri": "https://localhost:8080/"
        },
        "id": "761OdQFmkVkW",
        "outputId": "0359275f-72c9-44c3-8e50-0735cb0151c2"
      },
      "execution_count": null,
      "outputs": [
        {
          "output_type": "stream",
          "name": "stdout",
          "text": [
            "91.52078612852627\n"
          ]
        }
      ]
    },
    {
      "cell_type": "code",
      "source": [
        "yhat = reg.coef_[0]*X + reg.intercept_\n",
        "plt.scatter(X, y, c='blue', )\n",
        "plt.plot(X, yhat, lw=4, c='red', label = 'regression line')\n",
        "plt.xlabel('distance to the nearest MRT station')\n",
        "plt.ylabel('house price')\n",
        "plt.show()"
      ],
      "metadata": {
        "colab": {
          "base_uri": "https://localhost:8080/",
          "height": 279
        },
        "id": "7W1hQczhvhIl",
        "outputId": "6348bead-62ff-42ec-f5aa-1f3e70ce5bc2"
      },
      "execution_count": null,
      "outputs": [
        {
          "output_type": "display_data",
          "data": {
            "image/png": "[encoded data removed]",
            "text/plain": [
              "<Figure size 432x288 with 1 Axes>"
            ]
          },
          "metadata": {
            "needs_background": "light"
          }
        }
      ]
    }
  ],
  "metadata": {
    "colab": {
      "collapsed_sections": [
        "fajTj7WydVkh",
        "RnPQCYcn4Bbq"
      ],
      "provenance": []
    },
    "kernelspec": {
      "display_name": "Python 3 (ipykernel)",
      "language": "python",
      "name": "python3"
    },
    "language_info": {
      "codemirror_mode": {
        "name": "ipython",
        "version": 3
      },
      "file_extension": ".py",
      "mimetype": "text/x-python",
      "name": "python",
      "nbconvert_exporter": "python",
      "pygments_lexer": "ipython3",
      "version": "3.9.7"
    }
  },
  "nbformat": 4,
  "nbformat_minor": 0
}