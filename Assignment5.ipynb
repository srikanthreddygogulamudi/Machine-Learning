{
  "cells": [
    {
      "cell_type": "markdown",
      "metadata": {
        "id": "y_j4l8bVVbiZ"
      },
      "source": [
        "# COMP4220: Machine Learning, Spring 2022, Assignment 5\n",
        "\n",
        "> ## **Please submit one pdf file for all questions.**\n"
      ]
    },
    {
      "cell_type": "markdown",
      "metadata": {
        "id": "9lNm8mgrVbid"
      },
      "source": [
        "# 1. List five hyperparameters you can tweak in a basic neural network?\n"
      ]
    },
    {
      "cell_type": "markdown",
      "metadata": {
        "id": "slG-dqRUVbie"
      },
      "source": [
        "> input and output neurons, hidden layers, loss function, no of epochs,\n",
        "\n"
      ]
    },
    {
      "cell_type": "markdown",
      "metadata": {
        "id": "WIaofV2ZVbig"
      },
      "source": [
        "# 2. What is backpropagation and how does it work?"
      ]
    },
    {
      "cell_type": "markdown",
      "metadata": {
        "id": "roEKqdj2Vbih"
      },
      "source": [
        "> \n",
        "1.Back Propagation is an training algorithm.\n",
        "\n",
        "2.It is simply gradient descent using an efficent technique for computing the gradients automatically.\n",
        "\n",
        "3.It is used to find gradient in just two passes. one foward and one backward.\n",
        "\n",
        "4.In other words, it can find out how each connection weight and each bias term should be tweaked in order to reduce the error.\n",
        "\n",
        "5.Once it has these gradients,it just performs a regular Gradient Descent step, and the whole process is repeated until the network converges to the solution.\n"
      ]
    },
    {
      "cell_type": "markdown",
      "metadata": {
        "id": "Nk2mqeLQVbii"
      },
      "source": [
        "# Programming Assignment (Artificial Neural Network-ANN)"
      ]
    },
    {
      "cell_type": "code",
      "execution_count": null,
      "metadata": {
        "id": "CghrKavyVbik"
      },
      "outputs": [],
      "source": [
        "# Importing libraries\n",
        "import numpy as np\n",
        "import pandas as pd\n",
        "import tensorflow as tf\n",
        "from sklearn.compose import ColumnTransformer\n",
        "import keras\n",
        "from sklearn.model_selection import train_test_split\n",
        "from keras.models import Sequential\n",
        "from keras.layers import Dense\n",
        "from sklearn.preprocessing import LabelEncoder, OneHotEncoder\n",
        "from sklearn.preprocessing import StandardScaler\n",
        "from sklearn.metrics import confusion_matrix, precision_score, accuracy_score, f1_score, recall_score\n",
        "import matplotlib.pyplot as plt"
      ]
    },
    {
      "cell_type": "code",
      "execution_count": null,
      "metadata": {
        "colab": {
          "base_uri": "https://localhost:8080/",
          "height": 468
        },
        "id": "dUT4IRjiVbin",
        "outputId": "706c007f-aa68-4885-ca5d-7eaaaf7d4182"
      },
      "outputs": [
        {
          "data": {
            "text/html": [
              "\n",
              "  <div id=\"df-72f8fa73-dd66-4bbb-bdee-f5be51b4a697\">\n",
              "    <div class=\"colab-df-container\">\n",
              "      <div>\n",
              "<style scoped>\n",
              "    .dataframe tbody tr th:only-of-type {\n",
              "        vertical-align: middle;\n",
              "    }\n",
              "\n",
              "    .dataframe tbody tr th {\n",
              "        vertical-align: top;\n",
              "    }\n",
              "\n",
              "    .dataframe thead th {\n",
              "        text-align: right;\n",
              "    }\n",
              "</style>\n",
              "<table border=\"1\" class=\"dataframe\">\n",
              "  <thead>\n",
              "    <tr style=\"text-align: right;\">\n",
              "      <th></th>\n",
              "      <th>RowNumber</th>\n",
              "      <th>CustomerId</th>\n",
              "      <th>Surname</th>\n",
              "      <th>CreditScore</th>\n",
              "      <th>Geography</th>\n",
              "      <th>Gender</th>\n",
              "      <th>Age</th>\n",
              "      <th>Tenure</th>\n",
              "      <th>Balance</th>\n",
              "      <th>NumOfProducts</th>\n",
              "      <th>HasCrCard</th>\n",
              "      <th>IsActiveMember</th>\n",
              "      <th>EstimatedSalary</th>\n",
              "      <th>Exited</th>\n",
              "    </tr>\n",
              "  </thead>\n",
              "  <tbody>\n",
              "    <tr>\n",
              "      <th>0</th>\n",
              "      <td>1</td>\n",
              "      <td>15634602</td>\n",
              "      <td>Hargrave</td>\n",
              "      <td>619</td>\n",
              "      <td>France</td>\n",
              "      <td>Female</td>\n",
              "      <td>42</td>\n",
              "      <td>2</td>\n",
              "      <td>0.00</td>\n",
              "      <td>1</td>\n",
              "      <td>1</td>\n",
              "      <td>1</td>\n",
              "      <td>101348.88</td>\n",
              "      <td>1</td>\n",
              "    </tr>\n",
              "    <tr>\n",
              "      <th>1</th>\n",
              "      <td>2</td>\n",
              "      <td>15647311</td>\n",
              "      <td>Hill</td>\n",
              "      <td>608</td>\n",
              "      <td>Spain</td>\n",
              "      <td>Female</td>\n",
              "      <td>41</td>\n",
              "      <td>1</td>\n",
              "      <td>83807.86</td>\n",
              "      <td>1</td>\n",
              "      <td>0</td>\n",
              "      <td>1</td>\n",
              "      <td>112542.58</td>\n",
              "      <td>0</td>\n",
              "    </tr>\n",
              "    <tr>\n",
              "      <th>2</th>\n",
              "      <td>3</td>\n",
              "      <td>15619304</td>\n",
              "      <td>Onio</td>\n",
              "      <td>502</td>\n",
              "      <td>France</td>\n",
              "      <td>Female</td>\n",
              "      <td>42</td>\n",
              "      <td>8</td>\n",
              "      <td>159660.80</td>\n",
              "      <td>3</td>\n",
              "      <td>1</td>\n",
              "      <td>0</td>\n",
              "      <td>113931.57</td>\n",
              "      <td>1</td>\n",
              "    </tr>\n",
              "    <tr>\n",
              "      <th>3</th>\n",
              "      <td>4</td>\n",
              "      <td>15701354</td>\n",
              "      <td>Boni</td>\n",
              "      <td>699</td>\n",
              "      <td>France</td>\n",
              "      <td>Female</td>\n",
              "      <td>39</td>\n",
              "      <td>1</td>\n",
              "      <td>0.00</td>\n",
              "      <td>2</td>\n",
              "      <td>0</td>\n",
              "      <td>0</td>\n",
              "      <td>93826.63</td>\n",
              "      <td>0</td>\n",
              "    </tr>\n",
              "    <tr>\n",
              "      <th>4</th>\n",
              "      <td>5</td>\n",
              "      <td>15737888</td>\n",
              "      <td>Mitchell</td>\n",
              "      <td>850</td>\n",
              "      <td>Spain</td>\n",
              "      <td>Female</td>\n",
              "      <td>43</td>\n",
              "      <td>2</td>\n",
              "      <td>125510.82</td>\n",
              "      <td>1</td>\n",
              "      <td>1</td>\n",
              "      <td>1</td>\n",
              "      <td>79084.10</td>\n",
              "      <td>0</td>\n",
              "    </tr>\n",
              "    <tr>\n",
              "      <th>...</th>\n",
              "      <td>...</td>\n",
              "      <td>...</td>\n",
              "      <td>...</td>\n",
              "      <td>...</td>\n",
              "      <td>...</td>\n",
              "      <td>...</td>\n",
              "      <td>...</td>\n",
              "      <td>...</td>\n",
              "      <td>...</td>\n",
              "      <td>...</td>\n",
              "      <td>...</td>\n",
              "      <td>...</td>\n",
              "      <td>...</td>\n",
              "      <td>...</td>\n",
              "    </tr>\n",
              "    <tr>\n",
              "      <th>9995</th>\n",
              "      <td>9996</td>\n",
              "      <td>15606229</td>\n",
              "      <td>Obijiaku</td>\n",
              "      <td>771</td>\n",
              "      <td>France</td>\n",
              "      <td>Male</td>\n",
              "      <td>39</td>\n",
              "      <td>5</td>\n",
              "      <td>0.00</td>\n",
              "      <td>2</td>\n",
              "      <td>1</td>\n",
              "      <td>0</td>\n",
              "      <td>96270.64</td>\n",
              "      <td>0</td>\n",
              "    </tr>\n",
              "    <tr>\n",
              "      <th>9996</th>\n",
              "      <td>9997</td>\n",
              "      <td>15569892</td>\n",
              "      <td>Johnstone</td>\n",
              "      <td>516</td>\n",
              "      <td>France</td>\n",
              "      <td>Male</td>\n",
              "      <td>35</td>\n",
              "      <td>10</td>\n",
              "      <td>57369.61</td>\n",
              "      <td>1</td>\n",
              "      <td>1</td>\n",
              "      <td>1</td>\n",
              "      <td>101699.77</td>\n",
              "      <td>0</td>\n",
              "    </tr>\n",
              "    <tr>\n",
              "      <th>9997</th>\n",
              "      <td>9998</td>\n",
              "      <td>15584532</td>\n",
              "      <td>Liu</td>\n",
              "      <td>709</td>\n",
              "      <td>France</td>\n",
              "      <td>Female</td>\n",
              "      <td>36</td>\n",
              "      <td>7</td>\n",
              "      <td>0.00</td>\n",
              "      <td>1</td>\n",
              "      <td>0</td>\n",
              "      <td>1</td>\n",
              "      <td>42085.58</td>\n",
              "      <td>1</td>\n",
              "    </tr>\n",
              "    <tr>\n",
              "      <th>9998</th>\n",
              "      <td>9999</td>\n",
              "      <td>15682355</td>\n",
              "      <td>Sabbatini</td>\n",
              "      <td>772</td>\n",
              "      <td>Germany</td>\n",
              "      <td>Male</td>\n",
              "      <td>42</td>\n",
              "      <td>3</td>\n",
              "      <td>75075.31</td>\n",
              "      <td>2</td>\n",
              "      <td>1</td>\n",
              "      <td>0</td>\n",
              "      <td>92888.52</td>\n",
              "      <td>1</td>\n",
              "    </tr>\n",
              "    <tr>\n",
              "      <th>9999</th>\n",
              "      <td>10000</td>\n",
              "      <td>15628319</td>\n",
              "      <td>Walker</td>\n",
              "      <td>792</td>\n",
              "      <td>France</td>\n",
              "      <td>Female</td>\n",
              "      <td>28</td>\n",
              "      <td>4</td>\n",
              "      <td>130142.79</td>\n",
              "      <td>1</td>\n",
              "      <td>1</td>\n",
              "      <td>0</td>\n",
              "      <td>38190.78</td>\n",
              "      <td>0</td>\n",
              "    </tr>\n",
              "  </tbody>\n",
              "</table>\n",
              "<p>10000 rows × 14 columns</p>\n",
              "</div>\n",
              "      <button class=\"colab-df-convert\" onclick=\"convertToInteractive('df-72f8fa73-dd66-4bbb-bdee-f5be51b4a697')\"\n",
              "              title=\"Convert this dataframe to an interactive table.\"\n",
              "              style=\"display:none;\">\n",
              "        \n",
              "  <svg xmlns=\"http://www.w3.org/2000/svg\" height=\"24px\"viewBox=\"0 0 24 24\"\n",
              "       width=\"24px\">\n",
              "    <path d=\"M0 0h24v24H0V0z\" fill=\"none\"/>\n",
              "    <path d=\"M18.56 5.44l.94 2.06.94-2.06 2.06-.94-2.06-.94-.94-2.06-.94 2.06-2.06.94zm-11 1L8.5 8.5l.94-2.06 2.06-.94-2.06-.94L8.5 2.5l-.94 2.06-2.06.94zm10 10l.94 2.06.94-2.06 2.06-.94-2.06-.94-.94-2.06-.94 2.06-2.06.94z\"/><path d=\"M17.41 7.96l-1.37-1.37c-.4-.4-.92-.59-1.43-.59-.52 0-1.04.2-1.43.59L10.3 9.45l-7.72 7.72c-.78.78-.78 2.05 0 2.83L4 21.41c.39.39.9.59 1.41.59.51 0 1.02-.2 1.41-.59l7.78-7.78 2.81-2.81c.8-.78.8-2.07 0-2.86zM5.41 20L4 18.59l7.72-7.72 1.47 1.35L5.41 20z\"/>\n",
              "  </svg>\n",
              "      </button>\n",
              "      \n",
              "  <style>\n",
              "    .colab-df-container {\n",
              "      display:flex;\n",
              "      flex-wrap:wrap;\n",
              "      gap: 12px;\n",
              "    }\n",
              "\n",
              "    .colab-df-convert {\n",
              "      background-color: #E8F0FE;\n",
              "      border: none;\n",
              "      border-radius: 50%;\n",
              "      cursor: pointer;\n",
              "      display: none;\n",
              "      fill: #1967D2;\n",
              "      height: 32px;\n",
              "      padding: 0 0 0 0;\n",
              "      width: 32px;\n",
              "    }\n",
              "\n",
              "    .colab-df-convert:hover {\n",
              "      background-color: #E2EBFA;\n",
              "      box-shadow: 0px 1px 2px rgba(60, 64, 67, 0.3), 0px 1px 3px 1px rgba(60, 64, 67, 0.15);\n",
              "      fill: #174EA6;\n",
              "    }\n",
              "\n",
              "    [theme=dark] .colab-df-convert {\n",
              "      background-color: #3B4455;\n",
              "      fill: #D2E3FC;\n",
              "    }\n",
              "\n",
              "    [theme=dark] .colab-df-convert:hover {\n",
              "      background-color: #434B5C;\n",
              "      box-shadow: 0px 1px 3px 1px rgba(0, 0, 0, 0.15);\n",
              "      filter: drop-shadow(0px 1px 2px rgba(0, 0, 0, 0.3));\n",
              "      fill: #FFFFFF;\n",
              "    }\n",
              "  </style>\n",
              "\n",
              "      <script>\n",
              "        const buttonEl =\n",
              "          document.querySelector('#df-72f8fa73-dd66-4bbb-bdee-f5be51b4a697 button.colab-df-convert');\n",
              "        buttonEl.style.display =\n",
              "          google.colab.kernel.accessAllowed ? 'block' : 'none';\n",
              "\n",
              "        async function convertToInteractive(key) {\n",
              "          const element = document.querySelector('#df-72f8fa73-dd66-4bbb-bdee-f5be51b4a697');\n",
              "          const dataTable =\n",
              "            await google.colab.kernel.invokeFunction('convertToInteractive',\n",
              "                                                     [key], {});\n",
              "          if (!dataTable) return;\n",
              "\n",
              "          const docLinkHtml = 'Like what you see? Visit the ' +\n",
              "            '<a target=\"_blank\" href=https://colab.research.google.com/notebooks/data_table.ipynb>data table notebook</a>'\n",
              "            + ' to learn more about interactive tables.';\n",
              "          element.innerHTML = '';\n",
              "          dataTable['output_type'] = 'display_data';\n",
              "          await google.colab.output.renderOutput(dataTable, element);\n",
              "          const docLink = document.createElement('div');\n",
              "          docLink.innerHTML = docLinkHtml;\n",
              "          element.appendChild(docLink);\n",
              "        }\n",
              "      </script>\n",
              "    </div>\n",
              "  </div>\n",
              "  "
            ],
            "text/plain": [
              "      RowNumber  CustomerId    Surname  CreditScore Geography  Gender  Age  \\\n",
              "0             1    15634602   Hargrave          619    France  Female   42   \n",
              "1             2    15647311       Hill          608     Spain  Female   41   \n",
              "2             3    15619304       Onio          502    France  Female   42   \n",
              "3             4    15701354       Boni          699    France  Female   39   \n",
              "4             5    15737888   Mitchell          850     Spain  Female   43   \n",
              "...         ...         ...        ...          ...       ...     ...  ...   \n",
              "9995       9996    15606229   Obijiaku          771    France    Male   39   \n",
              "9996       9997    15569892  Johnstone          516    France    Male   35   \n",
              "9997       9998    15584532        Liu          709    France  Female   36   \n",
              "9998       9999    15682355  Sabbatini          772   Germany    Male   42   \n",
              "9999      10000    15628319     Walker          792    France  Female   28   \n",
              "\n",
              "      Tenure    Balance  NumOfProducts  HasCrCard  IsActiveMember  \\\n",
              "0          2       0.00              1          1               1   \n",
              "1          1   83807.86              1          0               1   \n",
              "2          8  159660.80              3          1               0   \n",
              "3          1       0.00              2          0               0   \n",
              "4          2  125510.82              1          1               1   \n",
              "...      ...        ...            ...        ...             ...   \n",
              "9995       5       0.00              2          1               0   \n",
              "9996      10   57369.61              1          1               1   \n",
              "9997       7       0.00              1          0               1   \n",
              "9998       3   75075.31              2          1               0   \n",
              "9999       4  130142.79              1          1               0   \n",
              "\n",
              "      EstimatedSalary  Exited  \n",
              "0           101348.88       1  \n",
              "1           112542.58       0  \n",
              "2           113931.57       1  \n",
              "3            93826.63       0  \n",
              "4            79084.10       0  \n",
              "...               ...     ...  \n",
              "9995         96270.64       0  \n",
              "9996        101699.77       0  \n",
              "9997         42085.58       1  \n",
              "9998         92888.52       1  \n",
              "9999         38190.78       0  \n",
              "\n",
              "[10000 rows x 14 columns]"
            ]
          },
          "execution_count": 16,
          "metadata": {},
          "output_type": "execute_result"
        }
      ],
      "source": [
        "# Importing the dataset. This dataset describes churning, which is\n",
        "# the rate at which customers stop doing business with a company\n",
        "dataset = pd.read_csv('Churn_Modelling.csv')\n",
        "dataset"
      ]
    },
    {
      "cell_type": "markdown",
      "metadata": {
        "id": "sckFEeoIVbiq"
      },
      "source": [
        "## 1. Looking at the dataset we can see that the first 3 columns are not essential for our model. \n",
        "> Make a X variable that contains all other columns except the first three columns and Exited (label) <br/>\n",
        "> Make a Y variable (the Exited column) <br/>"
      ]
    },
    {
      "cell_type": "code",
      "execution_count": null,
      "metadata": {
        "id": "VT9g55D4Vbir"
      },
      "outputs": [],
      "source": [
        "X = dataset.iloc[:, 3:13].values # Select input features X \n",
        "y = dataset.iloc[:, 13].values   # The last column \"Exited\" is the output variable Y "
      ]
    },
    {
      "cell_type": "markdown",
      "metadata": {
        "id": "PocCWk7jVbis"
      },
      "source": [
        "## 2. In X there are Geography and Gender columns that are in string format which we can't use for training. Thus we should transform them into numerical type to train our model.\n",
        "> Use LabelEncoder and OneHotEncoder from sklearn.preprocessing to <br/>\n",
        "> transform the \"Geography\" and \"Gender\" columns into numberical data type"
      ]
    },
    {
      "cell_type": "code",
      "execution_count": null,
      "metadata": {
        "id": "P6A9liY1Vbit"
      },
      "outputs": [],
      "source": [
        "# Encoding categorical data\n",
        "from sklearn.preprocessing import LabelEncoder, OneHotEncoder\n",
        "labelencoder_X_1 = LabelEncoder()\n",
        "X[:, 1] = labelencoder_X_1.fit_transform(X[:, 1])\n",
        "labelencoder_X_2 = LabelEncoder()\n",
        "X[:, 2] = labelencoder_X_2.fit_transform(X[:, 2])\n",
        "ct = ColumnTransformer([(\"Geogrophy\", OneHotEncoder(), [1])], remainder = 'passthrough')\n",
        "X = ct.fit_transform(X)"
      ]
    },
    {
      "cell_type": "markdown",
      "metadata": {
        "id": "eOArW0wAVbiv"
      },
      "source": [
        "## 3. Split the dataset into the Training set and Test set (test_size = 0.2)"
      ]
    },
    {
      "cell_type": "code",
      "execution_count": null,
      "metadata": {
        "id": "m5nBcQHsVbiw"
      },
      "outputs": [],
      "source": [
        "from sklearn.model_selection import train_test_split\n",
        "\n",
        "X_train, X_test, y_train, y_test = train_test_split(X, y, test_size=0.2)"
      ]
    },
    {
      "cell_type": "markdown",
      "metadata": {
        "id": "iEdefkeYVbix"
      },
      "source": [
        "## 4. Apply Feature Scaling to all features before training a neural network"
      ]
    },
    {
      "cell_type": "code",
      "execution_count": null,
      "metadata": {
        "id": "9qiou6sCVbiz"
      },
      "outputs": [],
      "source": [
        "from sklearn.preprocessing import StandardScaler\n",
        "\n",
        "scaler = StandardScaler()\n",
        "X_train = scaler.fit_transform(X_train)\n",
        "X_test = scaler.transform(X_test)"
      ]
    },
    {
      "cell_type": "markdown",
      "metadata": {
        "id": "9stUX3s-Vbi0"
      },
      "source": [
        "## 5. Let's build ANN model by using the Keras sequential package\n",
        "> Initalize the sequential model <br/>\n",
        "> Add the input layer and the first hidden layer <br/>\n",
        "> Hint: For the first layer use (units = 6, kernel_initializer = 'uniform', activation = 'relu', input_dim = 11)"
      ]
    },
    {
      "cell_type": "code",
      "execution_count": null,
      "metadata": {
        "id": "SCmOtLIXVbi1"
      },
      "outputs": [],
      "source": [
        "import keras\n",
        "from keras.models import Sequential\n",
        "from keras.layers import Dense"
      ]
    },
    {
      "cell_type": "code",
      "execution_count": null,
      "metadata": {
        "id": "o3RRVrIiVbi2"
      },
      "outputs": [],
      "source": [
        "classifier = Sequential()\n",
        "classifier.add(Dense(units=6, kernel_initializer='uniform', activation='relu', input_dim=12))"
      ]
    },
    {
      "cell_type": "markdown",
      "metadata": {
        "id": "Scm3B8sUVbi8"
      },
      "source": [
        "## 6. Add the second hidden layer\n",
        "> Hint:(units = 6, kernel_initializer = 'uniform', activation = 'relu') "
      ]
    },
    {
      "cell_type": "code",
      "execution_count": null,
      "metadata": {
        "id": "NQQ9d_APVbi9"
      },
      "outputs": [],
      "source": [
        "classifier.add(Dense(units=6, kernel_initializer='uniform', activation='relu'))"
      ]
    },
    {
      "cell_type": "markdown",
      "metadata": {
        "id": "svXHqhKFVbi-"
      },
      "source": [
        "## 7. Add the output layer\n",
        "> Hint: (units = 1, kernel_initializer = 'uniform', activation = 'sigmoid')\n"
      ]
    },
    {
      "cell_type": "code",
      "execution_count": null,
      "metadata": {
        "id": "Psas3sLBVbjA"
      },
      "outputs": [],
      "source": [
        "classifier.add(Dense(units=1, kernel_initializer='uniform', activation='sigmoid'))"
      ]
    },
    {
      "cell_type": "markdown",
      "metadata": {
        "id": "Kl44ysXpVbjC"
      },
      "source": [
        "## 8. Compile the ANN\n",
        "> hint: (optimizer = 'adam', loss = 'binary_crossentropy', metrics = ['accuracy']))"
      ]
    },
    {
      "cell_type": "code",
      "execution_count": null,
      "metadata": {
        "id": "h0JlAN7bVbjD"
      },
      "outputs": [],
      "source": [
        "classifier.compile(optimizer='adam', loss='binary_crossentropy', metrics=['accuracy'])"
      ]
    },
    {
      "cell_type": "markdown",
      "metadata": {
        "id": "fY3O2TN9VbjE"
      },
      "source": [
        "## 9. Fit the ANN to the training set\n",
        "> (batch_size = 5, epochs = 20)"
      ]
    },
    {
      "cell_type": "code",
      "execution_count": null,
      "metadata": {
        "colab": {
          "background_save": true,
          "base_uri": "https://localhost:8080/"
        },
        "id": "c8hvjhTxVbjF",
        "outputId": "149d1fcf-0313-4373-c392-855ca83f0a67"
      },
      "outputs": [
        {
          "name": "stdout",
          "output_type": "stream",
          "text": [
            "Epoch 1/20\n",
            "1600/1600 [==============================] - 6s 3ms/step - loss: 0.4604 - accuracy: 0.7961\n",
            "Epoch 2/20\n",
            "1600/1600 [==============================] - 7s 4ms/step - loss: 0.4228 - accuracy: 0.7974\n",
            "Epoch 3/20\n",
            "1600/1600 [==============================] - 6s 4ms/step - loss: 0.4169 - accuracy: 0.8254\n",
            "Epoch 4/20\n",
            "1600/1600 [==============================] - 5s 3ms/step - loss: 0.4132 - accuracy: 0.8306\n",
            "Epoch 5/20\n",
            "1600/1600 [==============================] - 5s 3ms/step - loss: 0.4110 - accuracy: 0.8317\n",
            "Epoch 6/20\n",
            "1600/1600 [==============================] - 2s 2ms/step - loss: 0.4091 - accuracy: 0.8334\n",
            "Epoch 7/20\n",
            "1600/1600 [==============================] - 3s 2ms/step - loss: 0.4079 - accuracy: 0.8354\n",
            "Epoch 8/20\n",
            "1600/1600 [==============================] - 6s 3ms/step - loss: 0.4059 - accuracy: 0.8351\n",
            "Epoch 9/20\n",
            "1600/1600 [==============================] - 6s 4ms/step - loss: 0.4049 - accuracy: 0.8346\n",
            "Epoch 10/20\n",
            "1600/1600 [==============================] - 5s 3ms/step - loss: 0.4040 - accuracy: 0.8363\n",
            "Epoch 11/20\n",
            "1600/1600 [==============================] - 4s 3ms/step - loss: 0.4032 - accuracy: 0.8338\n",
            "Epoch 12/20\n",
            "1600/1600 [==============================] - 3s 2ms/step - loss: 0.4030 - accuracy: 0.8349\n",
            "Epoch 13/20\n",
            "1600/1600 [==============================] - 2s 2ms/step - loss: 0.4021 - accuracy: 0.8357\n",
            "Epoch 14/20\n",
            "1600/1600 [==============================] - 2s 2ms/step - loss: 0.4017 - accuracy: 0.8346\n",
            "Epoch 15/20\n",
            "1600/1600 [==============================] - 3s 2ms/step - loss: 0.4013 - accuracy: 0.8354\n",
            "Epoch 16/20\n",
            "1600/1600 [==============================] - 4s 3ms/step - loss: 0.4015 - accuracy: 0.8340\n",
            "Epoch 17/20\n",
            "1600/1600 [==============================] - 5s 3ms/step - loss: 0.4011 - accuracy: 0.8346\n",
            "Epoch 18/20\n",
            "1600/1600 [==============================] - 4s 3ms/step - loss: 0.3997 - accuracy: 0.8365\n",
            "Epoch 19/20\n",
            "1600/1600 [==============================] - 3s 2ms/step - loss: 0.4002 - accuracy: 0.8361\n",
            "Epoch 20/20\n",
            "1600/1600 [==============================] - 2s 2ms/step - loss: 0.3998 - accuracy: 0.8355\n"
          ]
        }
      ],
      "source": [
        "batch_size = 5\n",
        "epochs = 20\n",
        "history = classifier.fit(X_train, y_train, epochs=epochs, batch_size=5)"
      ]
    },
    {
      "cell_type": "markdown",
      "metadata": {
        "id": "KuKO8U1OVbjG"
      },
      "source": [
        "## 10. Make predictions and evaluate the model\n",
        "> hint: just consider y_pred the values where y_pred is greater than 0.5 <br/>\n",
        "> (y_pred = (y_pred > 0.5)) <br/>\n",
        "> Make the confusion matrix and show the result <br/>\n",
        "> Evalue the precision, accuracy, recall, and f1 score and show the result <br/>"
      ]
    },
    {
      "cell_type": "code",
      "execution_count": null,
      "metadata": {
        "colab": {
          "background_save": true
        },
        "id": "o0Jo_gF9VbjH"
      },
      "outputs": [],
      "source": [
        "y_pred = classifier.predict(X_test) > 0.5"
      ]
    },
    {
      "cell_type": "markdown",
      "metadata": {
        "id": "UbJPqC5UVbjI"
      },
      "source": [
        "## 11. Compute the accuracy, precision, recall, and f1 score"
      ]
    },
    {
      "cell_type": "code",
      "execution_count": null,
      "metadata": {
        "colab": {
          "background_save": true
        },
        "id": "QUiXwRIiVbjJ",
        "outputId": "a52fc1f9-c6fc-4408-d383-e79c5f9258a3"
      },
      "outputs": [
        {
          "name": "stdout",
          "output_type": "stream",
          "text": [
            "Accuracy: 0.832\n",
            "Precision: 0.7160493827160493\n",
            "Recall: 0.2857142857142857\n",
            "F1 Score: 0.4084507042253521\n"
          ]
        }
      ],
      "source": [
        "print('Accuracy: {}'.format(accuracy_score(y_test, y_pred)))\n",
        "print('Precision: {}'.format(precision_score(y_test, y_pred)))\n",
        "print('Recall: {}'.format(recall_score(y_test, y_pred)))\n",
        "print('F1 Score: {}'.format(f1_score(y_test, y_pred)))"
      ]
    },
    {
      "cell_type": "markdown",
      "metadata": {
        "id": "SX6J-kFgVbjK"
      },
      "source": [
        "## 12. Using Tensorflow Playground \n",
        "\n",
        "Visit the TensorFlow Playground at https://playground.tensorflow.org/\n",
        "\n",
        "Spend some time playing with this UI to grow your intuition about neural networks. Complete the following problems in a single sitting please.\n",
        "\n",
        "\n",
        "1.\tLayers and patterns: try training the default neural network by clicking the run button (top left). Notice how it quickly finds a good solution for the classification task. Notice that the neurons in the first hidden layer have learned simple patterns, while the neurons in the second hidden layer have learned to combine the simple patterns of the first hidden layer into more complex patterns.  What happens when you add more layers?\n",
        "\n",
        "2.\tActivation function: try replacing the Tanh activation function with the ReLU activation function, and train the network again. Notice that it finds a solution even faster, but this time the boundaries are linear. What about the ReLU function causes this?\n",
        "\n",
        "3.\tLocal minima: modify the network architecture to have just one hidden layer with three neurons. Train it multiple times (to reset the network weights, click the reset button next to the play button). What do you notice about the training time?\n",
        "\n",
        "4.\tToo small: now remove one neuron to keep just 2. Notice that the neural network is now incapable of finding a good solution, even if you try multiple times. What do you observe about the number of parameters and the training set?\n",
        "\n",
        "5.\tLarge enough: next, set the number of neurons to 8 and train the network several times. Notice that it is now consistently fast and never gets stuck. What do you observe about local minima?"
      ]
    },
    {
      "cell_type": "markdown",
      "metadata": {
        "id": "HYCrg9VFYPLK"
      },
      "source": [
        "1. Adding more layers in the neural network increases dimensonality. If we increase the no of layers, then we can able to increase the capacity and efficeny of the model.\n",
        "   In genaral, more layers, the more complexity the patterns will be.\n",
        "\n",
        "2. Due to shape of the ReLU function.\n",
        "\n",
        "After replacing the ReLU function with Tanh function, the learning rate is tremendously increased. \n",
        "\n",
        "   It is because the ReLU function is able to solve the \"Vanishing Gradient Problem\".Vanishing Gradient Problem mostly occurs during back propogation when the value of weights are changed and also when the input values are increased.\n",
        "\n",
        "   The maximum range in the Tanh function lies between 0 to 1. The maximum range in the Tanh function lies between 1 to infinity.\n",
        "\n",
        "   Therfore, due to advantage in range in ReLU function, the Vanishing Gradient Problem is solved and results in faster learning rate.\n",
        "\n",
        "3. After modifying the network architecture with one hidden layer and three neurons, the laerning rate is increased. Therfore, the training time for deceieve correct output is decreased. \n",
        "\n",
        "  The training time varies alot, sometimes it strucks with the local minima.\n",
        "\n",
        "4. The model has few paramaeters and it systematically underfits the training set.\n",
        "\n",
        "5. large neural networks almost never get stuck in local\n",
        "minima,and even when they do these local optima are almost as good\n",
        "as the global optimum,However, they can still get stuck on long plateaus for a\n",
        "long time.\n",
        "\n",
        "\n",
        "\n",
        "\n"
      ]
    }
  ],
  "metadata": {
    "colab": {
      "collapsed_sections": [],
      "provenance": []
    },
    "interpreter": {
      "hash": "6983f06a58192f42c447da62e45706d64312d77c9acaee7903da16ce2e0a4c3a"
    },
    "kernelspec": {
      "display_name": "Python 3 (ipykernel)",
      "language": "python",
      "name": "python3"
    },
    "language_info": {
      "codemirror_mode": {
        "name": "ipython",
        "version": 3
      },
      "file_extension": ".py",
      "mimetype": "text/x-python",
      "name": "python",
      "nbconvert_exporter": "python",
      "pygments_lexer": "ipython3",
      "version": "3.9.7"
    }
  },
  "nbformat": 4,
  "nbformat_minor": 0
}