{
  "cells": [
    {
      "cell_type": "markdown",
      "source": [
        "# Problem 1"
      ],
      "metadata": {
        "id": "r0ehNnVY_2cp"
      }
    },
    {
      "cell_type": "markdown",
      "metadata": {
        "id": "3x8Y4rlt9ris"
      },
      "source": [
        "Import the numpy package under the name np"
      ]
    },
    {
      "cell_type": "code",
      "source": [
        "import numpy as np"
      ],
      "metadata": {
        "id": "6XC6wRMqwgLm"
      },
      "execution_count": null,
      "outputs": []
    },
    {
      "cell_type": "markdown",
      "metadata": {
        "id": "ud6Eyp7N9riv"
      },
      "source": [
        "Create a vector or 1D array with 10 zeros and print it"
      ]
    },
    {
      "cell_type": "code",
      "source": [
        "array=np.zeros(10)\n",
        "print(array)"
      ],
      "metadata": {
        "colab": {
          "base_uri": "https://localhost:8080/"
        },
        "id": "MYeNaSPJzwOt",
        "outputId": "26c55c99-d632-43ee-ddea-21a160308cd8"
      },
      "execution_count": null,
      "outputs": [
        {
          "output_type": "stream",
          "name": "stdout",
          "text": [
            "[0. 0. 0. 0. 0. 0. 0. 0. 0. 0.]\n"
          ]
        }
      ]
    },
    {
      "cell_type": "markdown",
      "metadata": {
        "id": "Xmvfx0Wq9rix"
      },
      "source": [
        "Find the memory size of this array"
      ]
    },
    {
      "cell_type": "code",
      "source": [
        "print(array.size*array.itemsize)"
      ],
      "metadata": {
        "colab": {
          "base_uri": "https://localhost:8080/"
        },
        "id": "9y0hRTb8z_cz",
        "outputId": "8c8b19dd-4a3a-4acd-efa2-d34c51966c5b"
      },
      "execution_count": null,
      "outputs": [
        {
          "output_type": "stream",
          "name": "stdout",
          "text": [
            "80\n"
          ]
        }
      ]
    },
    {
      "cell_type": "markdown",
      "source": [
        "# Problem 2:"
      ],
      "metadata": {
        "id": "3bU1U0vf_eCI"
      }
    },
    {
      "cell_type": "markdown",
      "metadata": {
        "id": "B1PSglUO9riy"
      },
      "source": [
        "Create another vector or 1D array with values ranging from 10 to 20"
      ]
    },
    {
      "cell_type": "code",
      "source": [
        "import numpy as np\n",
        "array = np.arange(10,20)\n",
        "print(array)\n"
      ],
      "metadata": {
        "colab": {
          "base_uri": "https://localhost:8080/"
        },
        "id": "o5nVRfAO1DHY",
        "outputId": "bfb5241f-64e8-425c-eaa2-3c2fbf915f16"
      },
      "execution_count": null,
      "outputs": [
        {
          "output_type": "stream",
          "name": "stdout",
          "text": [
            "[10 11 12 13 14 15 16 17 18 19]\n"
          ]
        }
      ]
    },
    {
      "cell_type": "markdown",
      "metadata": {
        "id": "DxTiBXnZ9riz"
      },
      "source": [
        "Reverse the created vector (first element becomes last) -- Is there any NumPy method that you can use?"
      ]
    },
    {
      "cell_type": "code",
      "source": [
        "reverse_array=np.flipud(array)\n",
        "print(reverse_array)"
      ],
      "metadata": {
        "colab": {
          "base_uri": "https://localhost:8080/"
        },
        "id": "gFnADFgk1asL",
        "outputId": "991656a6-7633-412b-9185-2f0bbd9b3498"
      },
      "execution_count": null,
      "outputs": [
        {
          "output_type": "stream",
          "name": "stdout",
          "text": [
            "[19 18 17 16 15 14 13 12 11 10]\n"
          ]
        }
      ]
    },
    {
      "cell_type": "markdown",
      "source": [
        "# Problem 3:"
      ],
      "metadata": {
        "id": "BvhkvoQg_hZo"
      }
    },
    {
      "cell_type": "markdown",
      "metadata": {
        "id": "kKg-hGyl9ri2"
      },
      "source": [
        "Create a 3x4 array with random values (standard normal distribution) and find the minimum and maximum values"
      ]
    },
    {
      "cell_type": "code",
      "source": [
        "import numpy as np\n",
        "array = np.random.randn(3, 4)\n",
        "print(array)\n",
        "Minimum=np.min(array)\n",
        "Maximum=np.max(array)\n",
        "print(\"Minimum value: \",Minimum)\n",
        "print(\"Maximum value: \",Maximum)"
      ],
      "metadata": {
        "colab": {
          "base_uri": "https://localhost:8080/"
        },
        "id": "44F0FiHgIA7D",
        "outputId": "00460d96-6e4e-428d-b507-1971d4dc8fb7"
      },
      "execution_count": null,
      "outputs": [
        {
          "output_type": "stream",
          "name": "stdout",
          "text": [
            "[[ 0.34928588 -1.35280004 -0.09876024 -0.35622717]\n",
            " [-0.36813632  0.05450538  0.20856695  0.21003696]\n",
            " [-1.03224877 -0.71190834  0.54649783 -0.71115727]]\n",
            "Minimum value:  -1.3528000367021875\n",
            "Maximum value:  0.5464978281048921\n"
          ]
        }
      ]
    },
    {
      "cell_type": "markdown",
      "source": [
        "# Problem 4:"
      ],
      "metadata": {
        "id": "hH-Po7fJ_lW6"
      }
    },
    {
      "cell_type": "markdown",
      "metadata": {
        "id": "CLu8jfED9ri3"
      },
      "source": [
        "Given the following 1D array, negate all elements which are between 3 and 8, in place. (include both 3 and 8 in conditional statements)"
      ]
    },
    {
      "cell_type": "code",
      "source": [
        "Z = np.arange(11)\n",
        "Z[(Z >= 3) & (Z <= 8)] *= -1\n",
        "print(Z)"
      ],
      "metadata": {
        "id": "-JzemL2OAsG8",
        "colab": {
          "base_uri": "https://localhost:8080/"
        },
        "outputId": "46e19bc7-6262-420f-bb59-13c60db3baf9"
      },
      "execution_count": null,
      "outputs": [
        {
          "output_type": "stream",
          "name": "stdout",
          "text": [
            "[ 0  1  2 -3 -4 -5 -6 -7 -8  9 10]\n"
          ]
        }
      ]
    },
    {
      "cell_type": "markdown",
      "metadata": {
        "id": "dqjCmIHg9ri5"
      },
      "source": [
        "Given the 1D array Z, find the closest value to the given scalar v?"
      ]
    },
    {
      "cell_type": "code",
      "source": [
        "Z = np.arange(5,100)\n",
        "v = np.array(33.2)\n",
        "index = (np.abs(Z-v)).argmin()\n",
        "print(Z[index])"
      ],
      "metadata": {
        "id": "-x7T0aJTF4Om",
        "colab": {
          "base_uri": "https://localhost:8080/"
        },
        "outputId": "dde384be-25de-42a0-fd26-88d5d4477763"
      },
      "execution_count": null,
      "outputs": [
        {
          "output_type": "stream",
          "name": "stdout",
          "text": [
            "33\n"
          ]
        }
      ]
    },
    {
      "cell_type": "markdown",
      "metadata": {
        "id": "8DBhQRBv9ri6"
      },
      "source": [
        "Subtract the mean of each row of the following matrix"
      ]
    },
    {
      "cell_type": "code",
      "source": [
        "np.random.seed(2)\n",
        "X = np.random.rand(3, 4)\n",
        "print(X)"
      ],
      "metadata": {
        "id": "qpBqsvNjGUY_",
        "colab": {
          "base_uri": "https://localhost:8080/"
        },
        "outputId": "7398bc14-0b17-42f5-acc2-50866f8a550e"
      },
      "execution_count": null,
      "outputs": [
        {
          "output_type": "stream",
          "name": "stdout",
          "text": [
            "[[0.4359949  0.02592623 0.54966248 0.43532239]\n",
            " [0.4203678  0.33033482 0.20464863 0.61927097]\n",
            " [0.29965467 0.26682728 0.62113383 0.52914209]]\n"
          ]
        }
      ]
    },
    {
      "cell_type": "code",
      "source": [
        "Y = X - X.mean(axis=1, keepdims=True)\n",
        "print(Y)"
      ],
      "metadata": {
        "id": "MnMCs3i4GXXm",
        "colab": {
          "base_uri": "https://localhost:8080/"
        },
        "outputId": "39c0eb7b-bee0-4284-aab6-6ebe8edc43f9"
      },
      "execution_count": null,
      "outputs": [
        {
          "output_type": "stream",
          "name": "stdout",
          "text": [
            "[[ 0.0742684  -0.33580027  0.18793598  0.07359589]\n",
            " [ 0.02671225 -0.06332073 -0.18900692  0.22561541]\n",
            " [-0.1295348  -0.16236219  0.19194436  0.09995263]]\n"
          ]
        }
      ]
    },
    {
      "cell_type": "markdown",
      "metadata": {
        "id": "nA2jv6ad9ri8"
      },
      "source": [
        "Timing comparison for multiplication of 4 arrays. Find the fastest way to compute the multiplication ABCD. Make sure you report the elapsed time. (hint: you can find relevant information at https://youtu.be/SeBRHg9ZrSs)\n",
        "\n",
        "Complete the following:"
      ]
    },
    {
      "cell_type": "code",
      "source": [
        "A = np.random.random((10000,1000))\n",
        "B = np.random.random((1000,10000))\n",
        "C = np.random.random((10000,5))\n",
        "D = np.random.random((5,1000))"
      ],
      "metadata": {
        "id": "LDJAruw4Gs7T"
      },
      "execution_count": null,
      "outputs": []
    },
    {
      "cell_type": "code",
      "source": [
        "import time\n",
        "\n",
        "start = time.time()\n",
        "np.linalg.multi_dot([A, B, C, D])\n",
        "end = time.time()\n",
        "\n",
        "elapsed_time = end - start\n",
        "print(elapsed_time)"
      ],
      "metadata": {
        "id": "h5LAxBUJGuP6",
        "colab": {
          "base_uri": "https://localhost:8080/"
        },
        "outputId": "e32ee0c3-c087-4654-b1ee-a6e5122dc41f"
      },
      "execution_count": null,
      "outputs": [
        {
          "output_type": "stream",
          "name": "stdout",
          "text": [
            "0.12484025955200195\n"
          ]
        }
      ]
    },
    {
      "cell_type": "markdown",
      "source": [
        "# Problem 5"
      ],
      "metadata": {
        "id": "y3M9zqvyD3u5"
      }
    },
    {
      "cell_type": "markdown",
      "metadata": {
        "id": "620Iq_0-9ri-"
      },
      "source": [
        "Import and print the file 'parks.csv' (Park Code should be the index column)"
      ]
    },
    {
      "cell_type": "code",
      "source": [
        "import pandas as pd\n",
        "df=pd.read_csv('parks.csv')\n",
        "df"
      ],
      "metadata": {
        "colab": {
          "base_uri": "https://localhost:8080/",
          "height": 1000
        },
        "id": "Zu4jPwVKtNyK",
        "outputId": "e8442645-2069-4d2b-fc88-7df6245a4a24"
      },
      "execution_count": null,
      "outputs": [
        {
          "output_type": "execute_result",
          "data": {
            "text/html": [
              "\n",
              "  <div id=\"df-a2f01864-1009-4c0a-ba0b-6f1ce5618fe9\">\n",
              "    <div class=\"colab-df-container\">\n",
              "      <div>\n",
              "<style scoped>\n",
              "    .dataframe tbody tr th:only-of-type {\n",
              "        vertical-align: middle;\n",
              "    }\n",
              "\n",
              "    .dataframe tbody tr th {\n",
              "        vertical-align: top;\n",
              "    }\n",
              "\n",
              "    .dataframe thead th {\n",
              "        text-align: right;\n",
              "    }\n",
              "</style>\n",
              "<table border=\"1\" class=\"dataframe\">\n",
              "  <thead>\n",
              "    <tr style=\"text-align: right;\">\n",
              "      <th></th>\n",
              "      <th>Park Code</th>\n",
              "      <th>Park Name</th>\n",
              "      <th>State</th>\n",
              "      <th>Acres</th>\n",
              "      <th>Latitude</th>\n",
              "      <th>Longitude</th>\n",
              "    </tr>\n",
              "  </thead>\n",
              "  <tbody>\n",
              "    <tr>\n",
              "      <th>0</th>\n",
              "      <td>ACAD</td>\n",
              "      <td>Acadia National Park</td>\n",
              "      <td>ME</td>\n",
              "      <td>47390</td>\n",
              "      <td>44.35</td>\n",
              "      <td>-68.21</td>\n",
              "    </tr>\n",
              "    <tr>\n",
              "      <th>1</th>\n",
              "      <td>ARCH</td>\n",
              "      <td>Arches National Park</td>\n",
              "      <td>UT</td>\n",
              "      <td>76519</td>\n",
              "      <td>38.68</td>\n",
              "      <td>-109.57</td>\n",
              "    </tr>\n",
              "    <tr>\n",
              "      <th>2</th>\n",
              "      <td>BADL</td>\n",
              "      <td>Badlands National Park</td>\n",
              "      <td>SD</td>\n",
              "      <td>242756</td>\n",
              "      <td>43.75</td>\n",
              "      <td>-102.50</td>\n",
              "    </tr>\n",
              "    <tr>\n",
              "      <th>3</th>\n",
              "      <td>BIBE</td>\n",
              "      <td>Big Bend National Park</td>\n",
              "      <td>TX</td>\n",
              "      <td>801163</td>\n",
              "      <td>29.25</td>\n",
              "      <td>-103.25</td>\n",
              "    </tr>\n",
              "    <tr>\n",
              "      <th>4</th>\n",
              "      <td>BISC</td>\n",
              "      <td>Biscayne National Park</td>\n",
              "      <td>FL</td>\n",
              "      <td>172924</td>\n",
              "      <td>25.65</td>\n",
              "      <td>-80.08</td>\n",
              "    </tr>\n",
              "    <tr>\n",
              "      <th>5</th>\n",
              "      <td>BLCA</td>\n",
              "      <td>Black Canyon of the Gunnison National Park</td>\n",
              "      <td>CO</td>\n",
              "      <td>32950</td>\n",
              "      <td>38.57</td>\n",
              "      <td>-107.72</td>\n",
              "    </tr>\n",
              "    <tr>\n",
              "      <th>6</th>\n",
              "      <td>BRCA</td>\n",
              "      <td>Bryce Canyon National Park</td>\n",
              "      <td>UT</td>\n",
              "      <td>35835</td>\n",
              "      <td>37.57</td>\n",
              "      <td>-112.18</td>\n",
              "    </tr>\n",
              "    <tr>\n",
              "      <th>7</th>\n",
              "      <td>CANY</td>\n",
              "      <td>Canyonlands National Park</td>\n",
              "      <td>UT</td>\n",
              "      <td>337598</td>\n",
              "      <td>38.20</td>\n",
              "      <td>-109.93</td>\n",
              "    </tr>\n",
              "    <tr>\n",
              "      <th>8</th>\n",
              "      <td>CARE</td>\n",
              "      <td>Capitol Reef National Park</td>\n",
              "      <td>UT</td>\n",
              "      <td>241904</td>\n",
              "      <td>38.20</td>\n",
              "      <td>-111.17</td>\n",
              "    </tr>\n",
              "    <tr>\n",
              "      <th>9</th>\n",
              "      <td>CAVE</td>\n",
              "      <td>Carlsbad Caverns National Park</td>\n",
              "      <td>NM</td>\n",
              "      <td>46766</td>\n",
              "      <td>32.17</td>\n",
              "      <td>-104.44</td>\n",
              "    </tr>\n",
              "    <tr>\n",
              "      <th>10</th>\n",
              "      <td>CHIS</td>\n",
              "      <td>Channel Islands National Park</td>\n",
              "      <td>CA</td>\n",
              "      <td>249561</td>\n",
              "      <td>34.01</td>\n",
              "      <td>-119.42</td>\n",
              "    </tr>\n",
              "    <tr>\n",
              "      <th>11</th>\n",
              "      <td>CONG</td>\n",
              "      <td>Congaree National Park</td>\n",
              "      <td>SC</td>\n",
              "      <td>26546</td>\n",
              "      <td>33.78</td>\n",
              "      <td>-80.78</td>\n",
              "    </tr>\n",
              "    <tr>\n",
              "      <th>12</th>\n",
              "      <td>CRLA</td>\n",
              "      <td>Crater Lake National Park</td>\n",
              "      <td>OR</td>\n",
              "      <td>183224</td>\n",
              "      <td>42.94</td>\n",
              "      <td>-122.10</td>\n",
              "    </tr>\n",
              "    <tr>\n",
              "      <th>13</th>\n",
              "      <td>CUVA</td>\n",
              "      <td>Cuyahoga Valley National Park</td>\n",
              "      <td>OH</td>\n",
              "      <td>32950</td>\n",
              "      <td>41.24</td>\n",
              "      <td>-81.55</td>\n",
              "    </tr>\n",
              "    <tr>\n",
              "      <th>14</th>\n",
              "      <td>DENA</td>\n",
              "      <td>Denali National Park and Preserve</td>\n",
              "      <td>AK</td>\n",
              "      <td>3372402</td>\n",
              "      <td>63.33</td>\n",
              "      <td>-150.50</td>\n",
              "    </tr>\n",
              "    <tr>\n",
              "      <th>15</th>\n",
              "      <td>DEVA</td>\n",
              "      <td>Death Valley National Park</td>\n",
              "      <td>CA, NV</td>\n",
              "      <td>4740912</td>\n",
              "      <td>36.24</td>\n",
              "      <td>-116.82</td>\n",
              "    </tr>\n",
              "    <tr>\n",
              "      <th>16</th>\n",
              "      <td>DRTO</td>\n",
              "      <td>Dry Tortugas National Park</td>\n",
              "      <td>FL</td>\n",
              "      <td>64701</td>\n",
              "      <td>24.63</td>\n",
              "      <td>-82.87</td>\n",
              "    </tr>\n",
              "    <tr>\n",
              "      <th>17</th>\n",
              "      <td>EVER</td>\n",
              "      <td>Everglades National Park</td>\n",
              "      <td>FL</td>\n",
              "      <td>1508538</td>\n",
              "      <td>25.32</td>\n",
              "      <td>-80.93</td>\n",
              "    </tr>\n",
              "    <tr>\n",
              "      <th>18</th>\n",
              "      <td>GAAR</td>\n",
              "      <td>Gates Of The Arctic National Park and Preserve</td>\n",
              "      <td>AK</td>\n",
              "      <td>7523898</td>\n",
              "      <td>67.78</td>\n",
              "      <td>-153.30</td>\n",
              "    </tr>\n",
              "    <tr>\n",
              "      <th>19</th>\n",
              "      <td>GLAC</td>\n",
              "      <td>Glacier National Park</td>\n",
              "      <td>MT</td>\n",
              "      <td>1013572</td>\n",
              "      <td>48.80</td>\n",
              "      <td>-114.00</td>\n",
              "    </tr>\n",
              "    <tr>\n",
              "      <th>20</th>\n",
              "      <td>GLBA</td>\n",
              "      <td>Glacier Bay National Park and Preserve</td>\n",
              "      <td>AK</td>\n",
              "      <td>3224840</td>\n",
              "      <td>58.50</td>\n",
              "      <td>-137.00</td>\n",
              "    </tr>\n",
              "    <tr>\n",
              "      <th>21</th>\n",
              "      <td>GRBA</td>\n",
              "      <td>Great Basin National Park</td>\n",
              "      <td>NV</td>\n",
              "      <td>77180</td>\n",
              "      <td>38.98</td>\n",
              "      <td>-114.30</td>\n",
              "    </tr>\n",
              "    <tr>\n",
              "      <th>22</th>\n",
              "      <td>GRCA</td>\n",
              "      <td>Grand Canyon National Park</td>\n",
              "      <td>AZ</td>\n",
              "      <td>1217403</td>\n",
              "      <td>36.06</td>\n",
              "      <td>-112.14</td>\n",
              "    </tr>\n",
              "    <tr>\n",
              "      <th>23</th>\n",
              "      <td>GRSA</td>\n",
              "      <td>Great Sand Dunes National Park and Preserve</td>\n",
              "      <td>CO</td>\n",
              "      <td>42984</td>\n",
              "      <td>37.73</td>\n",
              "      <td>-105.51</td>\n",
              "    </tr>\n",
              "    <tr>\n",
              "      <th>24</th>\n",
              "      <td>GRSM</td>\n",
              "      <td>Great Smoky Mountains National Park</td>\n",
              "      <td>TN, NC</td>\n",
              "      <td>521490</td>\n",
              "      <td>35.68</td>\n",
              "      <td>-83.53</td>\n",
              "    </tr>\n",
              "    <tr>\n",
              "      <th>25</th>\n",
              "      <td>GRTE</td>\n",
              "      <td>Grand Teton National Park</td>\n",
              "      <td>WY</td>\n",
              "      <td>309995</td>\n",
              "      <td>43.73</td>\n",
              "      <td>-110.80</td>\n",
              "    </tr>\n",
              "    <tr>\n",
              "      <th>26</th>\n",
              "      <td>GUMO</td>\n",
              "      <td>Guadalupe Mountains National Park</td>\n",
              "      <td>TX</td>\n",
              "      <td>86416</td>\n",
              "      <td>31.92</td>\n",
              "      <td>-104.87</td>\n",
              "    </tr>\n",
              "    <tr>\n",
              "      <th>27</th>\n",
              "      <td>HALE</td>\n",
              "      <td>Haleakala National Park</td>\n",
              "      <td>HI</td>\n",
              "      <td>29094</td>\n",
              "      <td>20.72</td>\n",
              "      <td>-156.17</td>\n",
              "    </tr>\n",
              "    <tr>\n",
              "      <th>28</th>\n",
              "      <td>HAVO</td>\n",
              "      <td>Hawaii Volcanoes National Park</td>\n",
              "      <td>HI</td>\n",
              "      <td>323431</td>\n",
              "      <td>19.38</td>\n",
              "      <td>-155.20</td>\n",
              "    </tr>\n",
              "    <tr>\n",
              "      <th>29</th>\n",
              "      <td>HOSP</td>\n",
              "      <td>Hot Springs National Park</td>\n",
              "      <td>AR</td>\n",
              "      <td>5550</td>\n",
              "      <td>34.51</td>\n",
              "      <td>-93.05</td>\n",
              "    </tr>\n",
              "    <tr>\n",
              "      <th>30</th>\n",
              "      <td>ISRO</td>\n",
              "      <td>Isle Royale National Park</td>\n",
              "      <td>MI</td>\n",
              "      <td>571790</td>\n",
              "      <td>48.10</td>\n",
              "      <td>-88.55</td>\n",
              "    </tr>\n",
              "    <tr>\n",
              "      <th>31</th>\n",
              "      <td>JOTR</td>\n",
              "      <td>Joshua Tree National Park</td>\n",
              "      <td>CA</td>\n",
              "      <td>789745</td>\n",
              "      <td>33.79</td>\n",
              "      <td>-115.90</td>\n",
              "    </tr>\n",
              "    <tr>\n",
              "      <th>32</th>\n",
              "      <td>KATM</td>\n",
              "      <td>Katmai National Park and Preserve</td>\n",
              "      <td>AK</td>\n",
              "      <td>3674530</td>\n",
              "      <td>58.50</td>\n",
              "      <td>-155.00</td>\n",
              "    </tr>\n",
              "    <tr>\n",
              "      <th>33</th>\n",
              "      <td>KEFJ</td>\n",
              "      <td>Kenai Fjords National Park</td>\n",
              "      <td>AK</td>\n",
              "      <td>669983</td>\n",
              "      <td>59.92</td>\n",
              "      <td>-149.65</td>\n",
              "    </tr>\n",
              "    <tr>\n",
              "      <th>34</th>\n",
              "      <td>KOVA</td>\n",
              "      <td>Kobuk Valley National Park</td>\n",
              "      <td>AK</td>\n",
              "      <td>1750717</td>\n",
              "      <td>67.55</td>\n",
              "      <td>-159.28</td>\n",
              "    </tr>\n",
              "    <tr>\n",
              "      <th>35</th>\n",
              "      <td>LACL</td>\n",
              "      <td>Lake Clark National Park and Preserve</td>\n",
              "      <td>AK</td>\n",
              "      <td>2619733</td>\n",
              "      <td>60.97</td>\n",
              "      <td>-153.42</td>\n",
              "    </tr>\n",
              "    <tr>\n",
              "      <th>36</th>\n",
              "      <td>LAVO</td>\n",
              "      <td>Lassen Volcanic National Park</td>\n",
              "      <td>CA</td>\n",
              "      <td>106372</td>\n",
              "      <td>40.49</td>\n",
              "      <td>-121.51</td>\n",
              "    </tr>\n",
              "    <tr>\n",
              "      <th>37</th>\n",
              "      <td>MACA</td>\n",
              "      <td>Mammoth Cave National Park</td>\n",
              "      <td>KY</td>\n",
              "      <td>52830</td>\n",
              "      <td>37.18</td>\n",
              "      <td>-86.10</td>\n",
              "    </tr>\n",
              "    <tr>\n",
              "      <th>38</th>\n",
              "      <td>MEVE</td>\n",
              "      <td>Mesa Verde National Park</td>\n",
              "      <td>CO</td>\n",
              "      <td>52122</td>\n",
              "      <td>37.18</td>\n",
              "      <td>-108.49</td>\n",
              "    </tr>\n",
              "    <tr>\n",
              "      <th>39</th>\n",
              "      <td>MORA</td>\n",
              "      <td>Mount Rainier National Park</td>\n",
              "      <td>WA</td>\n",
              "      <td>235625</td>\n",
              "      <td>46.85</td>\n",
              "      <td>-121.75</td>\n",
              "    </tr>\n",
              "    <tr>\n",
              "      <th>40</th>\n",
              "      <td>NOCA</td>\n",
              "      <td>North Cascades National Park</td>\n",
              "      <td>WA</td>\n",
              "      <td>504781</td>\n",
              "      <td>48.70</td>\n",
              "      <td>-121.20</td>\n",
              "    </tr>\n",
              "    <tr>\n",
              "      <th>41</th>\n",
              "      <td>OLYM</td>\n",
              "      <td>Olympic National Park</td>\n",
              "      <td>WA</td>\n",
              "      <td>922651</td>\n",
              "      <td>47.97</td>\n",
              "      <td>-123.50</td>\n",
              "    </tr>\n",
              "    <tr>\n",
              "      <th>42</th>\n",
              "      <td>PEFO</td>\n",
              "      <td>Petrified Forest National Park</td>\n",
              "      <td>AZ</td>\n",
              "      <td>93533</td>\n",
              "      <td>35.07</td>\n",
              "      <td>-109.78</td>\n",
              "    </tr>\n",
              "    <tr>\n",
              "      <th>43</th>\n",
              "      <td>PINN</td>\n",
              "      <td>Pinnacles National Park</td>\n",
              "      <td>CA</td>\n",
              "      <td>26606</td>\n",
              "      <td>36.48</td>\n",
              "      <td>-121.16</td>\n",
              "    </tr>\n",
              "    <tr>\n",
              "      <th>44</th>\n",
              "      <td>REDW</td>\n",
              "      <td>Redwood National Park</td>\n",
              "      <td>CA</td>\n",
              "      <td>112512</td>\n",
              "      <td>41.30</td>\n",
              "      <td>-124.00</td>\n",
              "    </tr>\n",
              "    <tr>\n",
              "      <th>45</th>\n",
              "      <td>ROMO</td>\n",
              "      <td>Rocky Mountain National Park</td>\n",
              "      <td>CO</td>\n",
              "      <td>265828</td>\n",
              "      <td>40.40</td>\n",
              "      <td>-105.58</td>\n",
              "    </tr>\n",
              "    <tr>\n",
              "      <th>46</th>\n",
              "      <td>SAGU</td>\n",
              "      <td>Saguaro National Park</td>\n",
              "      <td>AZ</td>\n",
              "      <td>91440</td>\n",
              "      <td>32.25</td>\n",
              "      <td>-110.50</td>\n",
              "    </tr>\n",
              "    <tr>\n",
              "      <th>47</th>\n",
              "      <td>SEKI</td>\n",
              "      <td>Sequoia and Kings Canyon National Parks</td>\n",
              "      <td>CA</td>\n",
              "      <td>865952</td>\n",
              "      <td>36.43</td>\n",
              "      <td>-118.68</td>\n",
              "    </tr>\n",
              "    <tr>\n",
              "      <th>48</th>\n",
              "      <td>SHEN</td>\n",
              "      <td>Shenandoah National Park</td>\n",
              "      <td>VA</td>\n",
              "      <td>199045</td>\n",
              "      <td>38.53</td>\n",
              "      <td>-78.35</td>\n",
              "    </tr>\n",
              "    <tr>\n",
              "      <th>49</th>\n",
              "      <td>THRO</td>\n",
              "      <td>Theodore Roosevelt National Park</td>\n",
              "      <td>ND</td>\n",
              "      <td>70447</td>\n",
              "      <td>46.97</td>\n",
              "      <td>-103.45</td>\n",
              "    </tr>\n",
              "    <tr>\n",
              "      <th>50</th>\n",
              "      <td>VOYA</td>\n",
              "      <td>Voyageurs National Park</td>\n",
              "      <td>MN</td>\n",
              "      <td>218200</td>\n",
              "      <td>48.50</td>\n",
              "      <td>-92.88</td>\n",
              "    </tr>\n",
              "    <tr>\n",
              "      <th>51</th>\n",
              "      <td>WICA</td>\n",
              "      <td>Wind Cave National Park</td>\n",
              "      <td>SD</td>\n",
              "      <td>28295</td>\n",
              "      <td>43.57</td>\n",
              "      <td>-103.48</td>\n",
              "    </tr>\n",
              "    <tr>\n",
              "      <th>52</th>\n",
              "      <td>WRST</td>\n",
              "      <td>Wrangell - St Elias National Park and Preserve</td>\n",
              "      <td>AK</td>\n",
              "      <td>8323148</td>\n",
              "      <td>61.00</td>\n",
              "      <td>-142.00</td>\n",
              "    </tr>\n",
              "    <tr>\n",
              "      <th>53</th>\n",
              "      <td>YELL</td>\n",
              "      <td>Yellowstone National Park</td>\n",
              "      <td>WY, MT, ID</td>\n",
              "      <td>2219791</td>\n",
              "      <td>44.60</td>\n",
              "      <td>-110.50</td>\n",
              "    </tr>\n",
              "    <tr>\n",
              "      <th>54</th>\n",
              "      <td>YOSE</td>\n",
              "      <td>Yosemite National Park</td>\n",
              "      <td>CA</td>\n",
              "      <td>761266</td>\n",
              "      <td>37.83</td>\n",
              "      <td>-119.50</td>\n",
              "    </tr>\n",
              "    <tr>\n",
              "      <th>55</th>\n",
              "      <td>ZION</td>\n",
              "      <td>Zion National Park</td>\n",
              "      <td>UT</td>\n",
              "      <td>146598</td>\n",
              "      <td>37.30</td>\n",
              "      <td>-113.05</td>\n",
              "    </tr>\n",
              "  </tbody>\n",
              "</table>\n",
              "</div>\n",
              "      <button class=\"colab-df-convert\" onclick=\"convertToInteractive('df-a2f01864-1009-4c0a-ba0b-6f1ce5618fe9')\"\n",
              "              title=\"Convert this dataframe to an interactive table.\"\n",
              "              style=\"display:none;\">\n",
              "        \n",
              "  <svg xmlns=\"http://www.w3.org/2000/svg\" height=\"24px\"viewBox=\"0 0 24 24\"\n",
              "       width=\"24px\">\n",
              "    <path d=\"M0 0h24v24H0V0z\" fill=\"none\"/>\n",
              "    <path d=\"M18.56 5.44l.94 2.06.94-2.06 2.06-.94-2.06-.94-.94-2.06-.94 2.06-2.06.94zm-11 1L8.5 8.5l.94-2.06 2.06-.94-2.06-.94L8.5 2.5l-.94 2.06-2.06.94zm10 10l.94 2.06.94-2.06 2.06-.94-2.06-.94-.94-2.06-.94 2.06-2.06.94z\"/><path d=\"M17.41 7.96l-1.37-1.37c-.4-.4-.92-.59-1.43-.59-.52 0-1.04.2-1.43.59L10.3 9.45l-7.72 7.72c-.78.78-.78 2.05 0 2.83L4 21.41c.39.39.9.59 1.41.59.51 0 1.02-.2 1.41-.59l7.78-7.78 2.81-2.81c.8-.78.8-2.07 0-2.86zM5.41 20L4 18.59l7.72-7.72 1.47 1.35L5.41 20z\"/>\n",
              "  </svg>\n",
              "      </button>\n",
              "      \n",
              "  <style>\n",
              "    .colab-df-container {\n",
              "      display:flex;\n",
              "      flex-wrap:wrap;\n",
              "      gap: 12px;\n",
              "    }\n",
              "\n",
              "    .colab-df-convert {\n",
              "      background-color: #E8F0FE;\n",
              "      border: none;\n",
              "      border-radius: 50%;\n",
              "      cursor: pointer;\n",
              "      display: none;\n",
              "      fill: #1967D2;\n",
              "      height: 32px;\n",
              "      padding: 0 0 0 0;\n",
              "      width: 32px;\n",
              "    }\n",
              "\n",
              "    .colab-df-convert:hover {\n",
              "      background-color: #E2EBFA;\n",
              "      box-shadow: 0px 1px 2px rgba(60, 64, 67, 0.3), 0px 1px 3px 1px rgba(60, 64, 67, 0.15);\n",
              "      fill: #174EA6;\n",
              "    }\n",
              "\n",
              "    [theme=dark] .colab-df-convert {\n",
              "      background-color: #3B4455;\n",
              "      fill: #D2E3FC;\n",
              "    }\n",
              "\n",
              "    [theme=dark] .colab-df-convert:hover {\n",
              "      background-color: #434B5C;\n",
              "      box-shadow: 0px 1px 3px 1px rgba(0, 0, 0, 0.15);\n",
              "      filter: drop-shadow(0px 1px 2px rgba(0, 0, 0, 0.3));\n",
              "      fill: #FFFFFF;\n",
              "    }\n",
              "  </style>\n",
              "\n",
              "      <script>\n",
              "        const buttonEl =\n",
              "          document.querySelector('#df-a2f01864-1009-4c0a-ba0b-6f1ce5618fe9 button.colab-df-convert');\n",
              "        buttonEl.style.display =\n",
              "          google.colab.kernel.accessAllowed ? 'block' : 'none';\n",
              "\n",
              "        async function convertToInteractive(key) {\n",
              "          const element = document.querySelector('#df-a2f01864-1009-4c0a-ba0b-6f1ce5618fe9');\n",
              "          const dataTable =\n",
              "            await google.colab.kernel.invokeFunction('convertToInteractive',\n",
              "                                                     [key], {});\n",
              "          if (!dataTable) return;\n",
              "\n",
              "          const docLinkHtml = 'Like what you see? Visit the ' +\n",
              "            '<a target=\"_blank\" href=https://colab.research.google.com/notebooks/data_table.ipynb>data table notebook</a>'\n",
              "            + ' to learn more about interactive tables.';\n",
              "          element.innerHTML = '';\n",
              "          dataTable['output_type'] = 'display_data';\n",
              "          await google.colab.output.renderOutput(dataTable, element);\n",
              "          const docLink = document.createElement('div');\n",
              "          docLink.innerHTML = docLinkHtml;\n",
              "          element.appendChild(docLink);\n",
              "        }\n",
              "      </script>\n",
              "    </div>\n",
              "  </div>\n",
              "  "
            ],
            "text/plain": [
              "   Park Code  ... Longitude \n",
              "0      ACAD   ...     -68.21\n",
              "1      ARCH   ...    -109.57\n",
              "2      BADL   ...    -102.50\n",
              "3      BIBE   ...    -103.25\n",
              "4      BISC   ...     -80.08\n",
              "5      BLCA   ...    -107.72\n",
              "6      BRCA   ...    -112.18\n",
              "7      CANY   ...    -109.93\n",
              "8      CARE   ...    -111.17\n",
              "9      CAVE   ...    -104.44\n",
              "10     CHIS   ...    -119.42\n",
              "11     CONG   ...     -80.78\n",
              "12     CRLA   ...    -122.10\n",
              "13     CUVA   ...     -81.55\n",
              "14     DENA   ...    -150.50\n",
              "15     DEVA   ...    -116.82\n",
              "16     DRTO   ...     -82.87\n",
              "17     EVER   ...     -80.93\n",
              "18     GAAR   ...    -153.30\n",
              "19     GLAC   ...    -114.00\n",
              "20     GLBA   ...    -137.00\n",
              "21     GRBA   ...    -114.30\n",
              "22     GRCA   ...    -112.14\n",
              "23     GRSA   ...    -105.51\n",
              "24     GRSM   ...     -83.53\n",
              "25     GRTE   ...    -110.80\n",
              "26     GUMO   ...    -104.87\n",
              "27     HALE   ...    -156.17\n",
              "28     HAVO   ...    -155.20\n",
              "29     HOSP   ...     -93.05\n",
              "30     ISRO   ...     -88.55\n",
              "31     JOTR   ...    -115.90\n",
              "32     KATM   ...    -155.00\n",
              "33     KEFJ   ...    -149.65\n",
              "34     KOVA   ...    -159.28\n",
              "35     LACL   ...    -153.42\n",
              "36     LAVO   ...    -121.51\n",
              "37     MACA   ...     -86.10\n",
              "38     MEVE   ...    -108.49\n",
              "39     MORA   ...    -121.75\n",
              "40     NOCA   ...    -121.20\n",
              "41     OLYM   ...    -123.50\n",
              "42     PEFO   ...    -109.78\n",
              "43     PINN   ...    -121.16\n",
              "44     REDW   ...    -124.00\n",
              "45     ROMO   ...    -105.58\n",
              "46     SAGU   ...    -110.50\n",
              "47     SEKI   ...    -118.68\n",
              "48     SHEN   ...     -78.35\n",
              "49     THRO   ...    -103.45\n",
              "50     VOYA   ...     -92.88\n",
              "51     WICA   ...    -103.48\n",
              "52     WRST   ...    -142.00\n",
              "53     YELL   ...    -110.50\n",
              "54     YOSE   ...    -119.50\n",
              "55     ZION   ...    -113.05\n",
              "\n",
              "[56 rows x 6 columns]"
            ]
          },
          "metadata": {},
          "execution_count": 55
        }
      ]
    },
    {
      "cell_type": "markdown",
      "metadata": {
        "id": "Qh01jiYP9ri_"
      },
      "source": [
        "Print all column names"
      ]
    },
    {
      "cell_type": "code",
      "source": [
        "print(df.columns)"
      ],
      "metadata": {
        "colab": {
          "base_uri": "https://localhost:8080/"
        },
        "id": "sPnIKym7aKKG",
        "outputId": "ef874a12-5b84-49d8-bab6-bd2b6084240d"
      },
      "execution_count": null,
      "outputs": [
        {
          "output_type": "stream",
          "name": "stdout",
          "text": [
            "Index(['Park Code', 'Park Name ', 'State ', 'Acres ', 'Latitude ',\n",
            "       'Longitude '],\n",
            "      dtype='object')\n"
          ]
        }
      ]
    },
    {
      "cell_type": "markdown",
      "metadata": {
        "id": "Bv2LMi1X9ri_"
      },
      "source": [
        "Make sure tha all letters are lower case and replace space with _"
      ]
    },
    {
      "cell_type": "code",
      "source": [
        "df.columns = df.columns.str.replace(' ','_').str.lower()\n",
        "print(df.columns)"
      ],
      "metadata": {
        "colab": {
          "base_uri": "https://localhost:8080/"
        },
        "id": "WjjFIz_IaWIE",
        "outputId": "b1a5c937-7c9f-4815-c84a-d7f9045199ac"
      },
      "execution_count": null,
      "outputs": [
        {
          "output_type": "stream",
          "name": "stdout",
          "text": [
            "Index(['park_code', 'park_name_', 'state_', 'acres_', 'latitude_',\n",
            "       'longitude_'],\n",
            "      dtype='object')\n"
          ]
        }
      ]
    },
    {
      "cell_type": "markdown",
      "metadata": {
        "id": "-XpKyWnn9rjA"
      },
      "source": [
        "Which state has the smallest national park?"
      ]
    },
    {
      "cell_type": "code",
      "source": [
        "minvalue = df['acres_'].idxmin()\n",
        "print(df.state_[minvalue])"
      ],
      "metadata": {
        "colab": {
          "base_uri": "https://localhost:8080/"
        },
        "id": "iDfs_uVAcZA7",
        "outputId": "47465fe7-386a-4cdf-b9db-de858d9bb9dd"
      },
      "execution_count": null,
      "outputs": [
        {
          "output_type": "stream",
          "name": "stdout",
          "text": [
            "AR \n"
          ]
        }
      ]
    },
    {
      "cell_type": "markdown",
      "metadata": {
        "id": "fAvURnHN9rjB"
      },
      "source": [
        "Produce a histogram plot that shows the distribution of 'acres'. "
      ]
    },
    {
      "cell_type": "code",
      "source": [
        "df.hist(column='acres_')"
      ],
      "metadata": {
        "colab": {
          "base_uri": "https://localhost:8080/",
          "height": 329
        },
        "id": "xOy1HML8gUy_",
        "outputId": "d13daf4e-c2dd-4a88-c798-644831015bf8"
      },
      "execution_count": null,
      "outputs": [
        {
          "output_type": "execute_result",
          "data": {
            "text/plain": [
              "array([[<matplotlib.axes._subplots.AxesSubplot object at 0x7f0baf400750>]],\n",
              "      dtype=object)"
            ]
          },
          "metadata": {},
          "execution_count": 53
        },
        {
          "output_type": "display_data",
          "data": {
            "image/png": "[encoded data removed]",
            "text/plain": [
              "<Figure size 432x288 with 1 Axes>"
            ]
          },
          "metadata": {
            "needs_background": "light"
          }
        }
      ]
    }
  ],
  "metadata": {
    "kernelspec": {
      "display_name": "Python 3",
      "language": "python",
      "name": "python3"
    },
    "language_info": {
      "codemirror_mode": {
        "name": "ipython",
        "version": 3
      },
      "file_extension": ".py",
      "mimetype": "text/x-python",
      "name": "python",
      "nbconvert_exporter": "python",
      "pygments_lexer": "ipython3",
      "version": "3.7.4"
    },
    "colab": {
      "provenance": [],
      "collapsed_sections": []
    }
  },
  "nbformat": 4,
  "nbformat_minor": 0
}